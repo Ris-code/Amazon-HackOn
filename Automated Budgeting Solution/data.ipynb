{
 "cells": [
  {
   "cell_type": "code",
   "execution_count": 15,
   "id": "4415bb72-37ff-426e-95aa-40570dec2dea",
   "metadata": {},
   "outputs": [],
   "source": [
    "import random\n",
    "import pandas as pd\n",
    "from faker import Faker\n",
    "from datetime import datetime, timedelta\n",
    "import plotly.graph_objs as go\n",
    "import pandas as pd\n",
    "\n",
    "import random\n",
    "import pandas as pd\n",
    "from faker import Faker\n",
    "from datetime import datetime, timedelta\n",
    "import numpy as np  # Import numpy for NaN\n",
    "\n",
    "fake = Faker()\n",
    "\n",
    "# Define product categories and representative product names\n",
    "products = {\n",
    "    \"Electronics\": [\"Smartphone\", \"Laptop\", \"Headphones\", \"Camera\", \"Smartwatch\"],\n",
    "    \"Fashion\": [\"T-shirt\", \"Jeans\", \"Sneakers\", \"Jacket\", \"Dress\"],\n",
    "    \"Home & Kitchen\": [\"Blender\", \"Vacuum Cleaner\", \"Coffee Maker\", \"Microwave Oven\", \"Dishwasher\"],\n",
    "    \"Books\": [\"Novel\", \"Biography\", \"Science Fiction\", \"Non-Fiction\", \"Fantasy\"],\n",
    "    \"Sports & Outdoors\": [\"Tennis Racket\", \"Yoga Mat\", \"Dumbbells\", \"Bicycle\", \"Running Shoes\"],\n",
    "    \"Beauty & Personal Care\": [\"Shampoo\", \"Lipstick\", \"Moisturizer\", \"Perfume\", \"Hair Dryer\"],\n",
    "    \"Toys & Games\": [\"Action Figure\", \"Board Game\", \"Puzzle\", \"Lego Set\", \"Doll\"],\n",
    "    \"Grocery\": [\"Organic Milk\", \"Eggs\", \"Bread\", \"Chicken Breast\", \"Rice\"],\n",
    "    \"Automotive\": [\"Car Cover\", \"Engine Oil\", \"Car Vacuum\", \"Tire Inflator\", \"Car Battery\"],\n",
    "    \"Health & Household\": [\"Vitamins\", \"Toothpaste\", \"Laundry Detergent\", \"Disinfectant Wipes\", \"Toilet Paper\"]\n",
    "}\n",
    "\n",
    "# Define payment methods\n",
    "payment_methods = [\n",
    "    \"Amazon Pay UPI\", \"Google Pay\", \"PhonePe\", \"Credit Card\", \n",
    "    \"Debit Card\", \"EMI\", \"Net Banking\", \"Cash on Delivery\" , \"Amazon Pay Later\"\n",
    "]\n",
    "\n",
    "# Generate random data for 50 orders\n",
    "data = []\n",
    "\n",
    "# Generate a random date within the past two years\n",
    "def random_date():\n",
    "    end_date = datetime.now()\n",
    "    start_date = end_date - timedelta(days=370)  # Approximately two years\n",
    "    return fake.date_between(start_date=start_date, end_date=end_date)\n",
    "\n",
    "for order_id in range(1, 51):  # Change to 51 to generate 50 orders (1 to 50)\n",
    "    product_category = random.choice(list(products.keys()))\n",
    "    product_name = random.choice(products[product_category])\n",
    "    mrp = round(random.uniform(100, 20000), 2)  # MRP between 100 and 2000\n",
    "    price_for_customer = round(mrp * random.uniform(0.5, 1.0), 2)  # Price between 50% and 100% of MRP\n",
    "    savings = mrp - price_for_customer\n",
    "    payment_method = random.choice(payment_methods)\n",
    "    order_date = random_date()\n",
    "    order_month = order_date.strftime(\"%B\")\n",
    "    \n",
    "    if payment_method == \"EMI\":\n",
    "        # For EMI, generate random monthly payment amount and duration\n",
    "        monthly_payment = round(price_for_customer / random.randint(3, 12), 2)  # Divide total amount by 3 to 12 months\n",
    "        duration_months = random.randint(3, 12)\n",
    "    elif payment_method == \"Amazon Pay Later\":\n",
    "        tenure = 1\n",
    "        if price_for_customer >= 6000: \n",
    "            tenure = 12 \n",
    "        elif price_for_customer >= 4500: \n",
    "            tenure = random.choice([9, 12])\n",
    "        elif price_for_customer >= 3000: \n",
    "            tenure = random.choice([6, 9, 12])\n",
    "        elif price_for_customer >= 0: \n",
    "            tenure = random.choice([1, 3])\n",
    "        duration_months = tenure \n",
    "        monthly_payment = price_for_customer/tenure \n",
    "    else:\n",
    "        # For other payment methods, set monthly_payment and duration to NaN\n",
    "        monthly_payment = np.nan\n",
    "        duration_months = np.nan\n",
    "    \n",
    "    data.append([\n",
    "        order_id, product_name, product_category, mrp, price_for_customer, savings, \n",
    "        payment_method, monthly_payment, duration_months, order_date, order_month\n",
    "    ])\n",
    "\n",
    "# Create a DataFrame\n",
    "columns = [\"Order ID\", \"Product Name\", \"Product Category\", \"MRP\", \"Price for Customer\", \n",
    "           \"Savings\", \"Payment Method\", \"Monthly Payment\", \"Duration (months)\", \"Order Date\", \"Order Month\"]\n",
    "\n",
    "df = pd.DataFrame(data, columns=columns)\n",
    "\n",
    "# Display the DataFrame\n",
    "# print(df)\n",
    "\n",
    "# Optionally, save to a CSV file\n",
    "df.to_csv(\"customer_orders.csv\", index=False)\n"
   ]
  },
  {
   "cell_type": "code",
   "execution_count": 16,
   "id": "066ce865-e052-4594-9a62-ded28b1f8f4e",
   "metadata": {},
   "outputs": [
    {
     "name": "stdout",
     "output_type": "stream",
     "text": [
      "{'data': [{'y': ['Automotive', 'Beauty & Personal Care', 'Electronics', 'Fashion', 'Grocery', 'Health & Household', 'Home & Kitchen', 'Sports & Outdoors', 'Toys & Games'], 'x': [55839.89, 48788.99, 38319.76, 16121.45, 48817.04, 14963.779999999999, 45188.72, 100900.28, 50991.24], 'type': 'bar', 'orientation': 'h', 'name': 'Spending'}], 'layout': {'title': 'Spending by Category', 'yaxis': {'title': 'Category', 'automargin': True}, 'xaxis': {'title': 'Total Spending'}, 'margin': {'l': 150, 'r': 20, 't': 50, 'b': 50}}}\n",
      "{'data': [{'y': ['Automotive', 'Beauty & Personal Care', 'Electronics', 'Fashion', 'Grocery', 'Health & Household', 'Home & Kitchen', 'Sports & Outdoors', 'Toys & Games'], 'x': [29313.820000000003, 18895.75, 8336.369999999999, 4949.670000000001, 24426.33, 6870.800000000001, 14781.579999999998, 36163.56, 14433.110000000004], 'type': 'bar', 'orientation': 'h', 'name': 'Savings'}], 'layout': {'title': 'Savings by Category', 'yaxis': {'title': 'Category', 'automargin': True}, 'xaxis': {'title': 'Total Savings'}, 'margin': {'l': 150, 'r': 20, 't': 50, 'b': 50}}}\n",
      "{'title': 'Total Spending', 'value': '₹419,931.15'}\n",
      "{'title': 'Total Savings', 'value': '₹158,170.99'}\n"
     ]
    }
   ],
   "source": [
    "\n",
    "def plot_spending_by_category(filtered_df, selected_year='Overall', selected_month='Overall'):\n",
    "    if selected_year != 'Overall':\n",
    "        filtered_df = filtered_df[filtered_df['Order Year'] == int(selected_year)]\n",
    "    if selected_month != 'Overall':\n",
    "        filtered_df = filtered_df[filtered_df['Order Month'] == selected_month]\n",
    "    \n",
    "    category_spending = filtered_df.groupby('Product Category')['Price for Customer'].sum().reset_index()\n",
    "    spending_figure = {\n",
    "        'data': [\n",
    "            {'y': category_spending['Product Category'].tolist(), 'x': category_spending['Price for Customer'].tolist(), 'type': 'bar', 'orientation': 'h', 'name': 'Spending'}\n",
    "        ],\n",
    "        'layout': {\n",
    "            'title': 'Spending by Category',\n",
    "            'yaxis': {'title': 'Category', 'automargin': True},\n",
    "            'xaxis': {'title': 'Total Spending'},\n",
    "            'margin': {'l': 150, 'r': 20, 't': 50, 'b': 50}\n",
    "        }\n",
    "    }\n",
    "    return spending_figure\n",
    "\n",
    "def plot_savings_by_category(filtered_df, selected_year='Overall', selected_month='Overall'):\n",
    "    if selected_year != 'Overall':\n",
    "        filtered_df = filtered_df[filtered_df['Order Year'] == int(selected_year)]\n",
    "    if selected_month != 'Overall':\n",
    "        filtered_df = filtered_df[filtered_df['Order Month'] == selected_month]\n",
    "    \n",
    "    category_savings = filtered_df.groupby('Product Category')['Savings'].sum().reset_index()\n",
    "    savings_figure = {\n",
    "        'data': [\n",
    "            {'y': category_savings['Product Category'].tolist(), 'x': category_savings['Savings'].tolist(), 'type': 'bar', 'orientation': 'h', 'name': 'Savings'}\n",
    "        ],\n",
    "        'layout': {\n",
    "            'title': 'Savings by Category',\n",
    "            'yaxis': {'title': 'Category', 'automargin': True},\n",
    "            'xaxis': {'title': 'Total Savings'},\n",
    "            'margin': {'l': 150, 'r': 20, 't': 50, 'b': 50}\n",
    "        }\n",
    "    }\n",
    "    return savings_figure\n",
    "\n",
    "def create_total_spending_card(filtered_df, selected_year='Overall', selected_month='Overall'):\n",
    "    if selected_year != 'Overall':\n",
    "        filtered_df = filtered_df[filtered_df['Order Year'] == int(selected_year)]\n",
    "    if selected_month != 'Overall':\n",
    "        filtered_df = filtered_df[filtered_df['Order Month'] == selected_month]\n",
    "    \n",
    "    total_spending = filtered_df['Price for Customer'].sum()\n",
    "    card = {\n",
    "        'title': 'Total Spending',\n",
    "        'value': f'₹{total_spending:,.2f}'\n",
    "    }\n",
    "    return card\n",
    "\n",
    "def create_total_savings_card(filtered_df, selected_year='Overall', selected_month='Overall'):\n",
    "    if selected_year != 'Overall':\n",
    "        filtered_df = filtered_df[filtered_df['Order Year'] == int(selected_year)]\n",
    "    if selected_month != 'Overall':\n",
    "        filtered_df = filtered_df[filtered_df['Order Month'] == selected_month]\n",
    "    \n",
    "    total_savings = filtered_df['Savings'].sum()\n",
    "    card = {\n",
    "        'title': 'Total Savings',\n",
    "        'value': f'₹{total_savings:,.2f}'\n",
    "    }\n",
    "    return card\n",
    "\n",
    "# Example usage:\n",
    "filtered_df = df.copy()  # Load your filtered DataFrame here\n",
    "selected_year = 'Overall'\n",
    "selected_month = 'Overall'\n",
    "\n",
    "spending_fig = plot_spending_by_category(filtered_df, selected_year, selected_month)\n",
    "savings_fig = plot_savings_by_category(filtered_df, selected_year, selected_month)\n",
    "total_spending_card = create_total_spending_card(filtered_df, selected_year, selected_month)\n",
    "total_savings_card = create_total_savings_card(filtered_df, selected_year, selected_month)\n",
    "\n",
    "print(spending_fig)\n",
    "print(savings_fig)\n",
    "print(total_spending_card)\n",
    "print(total_savings_card)\n"
   ]
  },
  {
   "cell_type": "code",
   "execution_count": 17,
   "id": "a4a275c6-4aa1-481a-ab00-b9055d6b496d",
   "metadata": {},
   "outputs": [
    {
     "data": {
      "application/vnd.plotly.v1+json": {
       "config": {
        "plotlyServerURL": "https://plot.ly"
       },
       "data": [
        {
         "marker": {
          "color": "rgba(50, 171, 96, 0.6)"
         },
         "orientation": "h",
         "text": [
          "₹100,900.28",
          "₹55,839.89",
          "₹50,991.24",
          "₹48,817.04",
          "₹48,788.99",
          "₹45,188.72",
          "₹38,319.76",
          "₹16,121.45",
          "₹14,963.78"
         ],
         "textposition": "auto",
         "type": "bar",
         "x": [
          100900.28,
          55839.89,
          50991.24,
          48817.04,
          48788.99,
          45188.72,
          38319.76,
          16121.45,
          14963.779999999999
         ],
         "y": [
          "Sports & Outdoors",
          "Automotive",
          "Toys & Games",
          "Grocery",
          "Beauty & Personal Care",
          "Home & Kitchen",
          "Electronics",
          "Fashion",
          "Health & Household"
         ]
        }
       ],
       "layout": {
        "margin": {
         "b": 50,
         "l": 150,
         "r": 20,
         "t": 50
        },
        "showlegend": false,
        "template": {
         "data": {
          "bar": [
           {
            "error_x": {
             "color": "#2a3f5f"
            },
            "error_y": {
             "color": "#2a3f5f"
            },
            "marker": {
             "line": {
              "color": "#E5ECF6",
              "width": 0.5
             },
             "pattern": {
              "fillmode": "overlay",
              "size": 10,
              "solidity": 0.2
             }
            },
            "type": "bar"
           }
          ],
          "barpolar": [
           {
            "marker": {
             "line": {
              "color": "#E5ECF6",
              "width": 0.5
             },
             "pattern": {
              "fillmode": "overlay",
              "size": 10,
              "solidity": 0.2
             }
            },
            "type": "barpolar"
           }
          ],
          "carpet": [
           {
            "aaxis": {
             "endlinecolor": "#2a3f5f",
             "gridcolor": "white",
             "linecolor": "white",
             "minorgridcolor": "white",
             "startlinecolor": "#2a3f5f"
            },
            "baxis": {
             "endlinecolor": "#2a3f5f",
             "gridcolor": "white",
             "linecolor": "white",
             "minorgridcolor": "white",
             "startlinecolor": "#2a3f5f"
            },
            "type": "carpet"
           }
          ],
          "choropleth": [
           {
            "colorbar": {
             "outlinewidth": 0,
             "ticks": ""
            },
            "type": "choropleth"
           }
          ],
          "contour": [
           {
            "colorbar": {
             "outlinewidth": 0,
             "ticks": ""
            },
            "colorscale": [
             [
              0,
              "#0d0887"
             ],
             [
              0.1111111111111111,
              "#46039f"
             ],
             [
              0.2222222222222222,
              "#7201a8"
             ],
             [
              0.3333333333333333,
              "#9c179e"
             ],
             [
              0.4444444444444444,
              "#bd3786"
             ],
             [
              0.5555555555555556,
              "#d8576b"
             ],
             [
              0.6666666666666666,
              "#ed7953"
             ],
             [
              0.7777777777777778,
              "#fb9f3a"
             ],
             [
              0.8888888888888888,
              "#fdca26"
             ],
             [
              1,
              "#f0f921"
             ]
            ],
            "type": "contour"
           }
          ],
          "contourcarpet": [
           {
            "colorbar": {
             "outlinewidth": 0,
             "ticks": ""
            },
            "type": "contourcarpet"
           }
          ],
          "heatmap": [
           {
            "colorbar": {
             "outlinewidth": 0,
             "ticks": ""
            },
            "colorscale": [
             [
              0,
              "#0d0887"
             ],
             [
              0.1111111111111111,
              "#46039f"
             ],
             [
              0.2222222222222222,
              "#7201a8"
             ],
             [
              0.3333333333333333,
              "#9c179e"
             ],
             [
              0.4444444444444444,
              "#bd3786"
             ],
             [
              0.5555555555555556,
              "#d8576b"
             ],
             [
              0.6666666666666666,
              "#ed7953"
             ],
             [
              0.7777777777777778,
              "#fb9f3a"
             ],
             [
              0.8888888888888888,
              "#fdca26"
             ],
             [
              1,
              "#f0f921"
             ]
            ],
            "type": "heatmap"
           }
          ],
          "heatmapgl": [
           {
            "colorbar": {
             "outlinewidth": 0,
             "ticks": ""
            },
            "colorscale": [
             [
              0,
              "#0d0887"
             ],
             [
              0.1111111111111111,
              "#46039f"
             ],
             [
              0.2222222222222222,
              "#7201a8"
             ],
             [
              0.3333333333333333,
              "#9c179e"
             ],
             [
              0.4444444444444444,
              "#bd3786"
             ],
             [
              0.5555555555555556,
              "#d8576b"
             ],
             [
              0.6666666666666666,
              "#ed7953"
             ],
             [
              0.7777777777777778,
              "#fb9f3a"
             ],
             [
              0.8888888888888888,
              "#fdca26"
             ],
             [
              1,
              "#f0f921"
             ]
            ],
            "type": "heatmapgl"
           }
          ],
          "histogram": [
           {
            "marker": {
             "pattern": {
              "fillmode": "overlay",
              "size": 10,
              "solidity": 0.2
             }
            },
            "type": "histogram"
           }
          ],
          "histogram2d": [
           {
            "colorbar": {
             "outlinewidth": 0,
             "ticks": ""
            },
            "colorscale": [
             [
              0,
              "#0d0887"
             ],
             [
              0.1111111111111111,
              "#46039f"
             ],
             [
              0.2222222222222222,
              "#7201a8"
             ],
             [
              0.3333333333333333,
              "#9c179e"
             ],
             [
              0.4444444444444444,
              "#bd3786"
             ],
             [
              0.5555555555555556,
              "#d8576b"
             ],
             [
              0.6666666666666666,
              "#ed7953"
             ],
             [
              0.7777777777777778,
              "#fb9f3a"
             ],
             [
              0.8888888888888888,
              "#fdca26"
             ],
             [
              1,
              "#f0f921"
             ]
            ],
            "type": "histogram2d"
           }
          ],
          "histogram2dcontour": [
           {
            "colorbar": {
             "outlinewidth": 0,
             "ticks": ""
            },
            "colorscale": [
             [
              0,
              "#0d0887"
             ],
             [
              0.1111111111111111,
              "#46039f"
             ],
             [
              0.2222222222222222,
              "#7201a8"
             ],
             [
              0.3333333333333333,
              "#9c179e"
             ],
             [
              0.4444444444444444,
              "#bd3786"
             ],
             [
              0.5555555555555556,
              "#d8576b"
             ],
             [
              0.6666666666666666,
              "#ed7953"
             ],
             [
              0.7777777777777778,
              "#fb9f3a"
             ],
             [
              0.8888888888888888,
              "#fdca26"
             ],
             [
              1,
              "#f0f921"
             ]
            ],
            "type": "histogram2dcontour"
           }
          ],
          "mesh3d": [
           {
            "colorbar": {
             "outlinewidth": 0,
             "ticks": ""
            },
            "type": "mesh3d"
           }
          ],
          "parcoords": [
           {
            "line": {
             "colorbar": {
              "outlinewidth": 0,
              "ticks": ""
             }
            },
            "type": "parcoords"
           }
          ],
          "pie": [
           {
            "automargin": true,
            "type": "pie"
           }
          ],
          "scatter": [
           {
            "fillpattern": {
             "fillmode": "overlay",
             "size": 10,
             "solidity": 0.2
            },
            "type": "scatter"
           }
          ],
          "scatter3d": [
           {
            "line": {
             "colorbar": {
              "outlinewidth": 0,
              "ticks": ""
             }
            },
            "marker": {
             "colorbar": {
              "outlinewidth": 0,
              "ticks": ""
             }
            },
            "type": "scatter3d"
           }
          ],
          "scattercarpet": [
           {
            "marker": {
             "colorbar": {
              "outlinewidth": 0,
              "ticks": ""
             }
            },
            "type": "scattercarpet"
           }
          ],
          "scattergeo": [
           {
            "marker": {
             "colorbar": {
              "outlinewidth": 0,
              "ticks": ""
             }
            },
            "type": "scattergeo"
           }
          ],
          "scattergl": [
           {
            "marker": {
             "colorbar": {
              "outlinewidth": 0,
              "ticks": ""
             }
            },
            "type": "scattergl"
           }
          ],
          "scattermapbox": [
           {
            "marker": {
             "colorbar": {
              "outlinewidth": 0,
              "ticks": ""
             }
            },
            "type": "scattermapbox"
           }
          ],
          "scatterpolar": [
           {
            "marker": {
             "colorbar": {
              "outlinewidth": 0,
              "ticks": ""
             }
            },
            "type": "scatterpolar"
           }
          ],
          "scatterpolargl": [
           {
            "marker": {
             "colorbar": {
              "outlinewidth": 0,
              "ticks": ""
             }
            },
            "type": "scatterpolargl"
           }
          ],
          "scatterternary": [
           {
            "marker": {
             "colorbar": {
              "outlinewidth": 0,
              "ticks": ""
             }
            },
            "type": "scatterternary"
           }
          ],
          "surface": [
           {
            "colorbar": {
             "outlinewidth": 0,
             "ticks": ""
            },
            "colorscale": [
             [
              0,
              "#0d0887"
             ],
             [
              0.1111111111111111,
              "#46039f"
             ],
             [
              0.2222222222222222,
              "#7201a8"
             ],
             [
              0.3333333333333333,
              "#9c179e"
             ],
             [
              0.4444444444444444,
              "#bd3786"
             ],
             [
              0.5555555555555556,
              "#d8576b"
             ],
             [
              0.6666666666666666,
              "#ed7953"
             ],
             [
              0.7777777777777778,
              "#fb9f3a"
             ],
             [
              0.8888888888888888,
              "#fdca26"
             ],
             [
              1,
              "#f0f921"
             ]
            ],
            "type": "surface"
           }
          ],
          "table": [
           {
            "cells": {
             "fill": {
              "color": "#EBF0F8"
             },
             "line": {
              "color": "white"
             }
            },
            "header": {
             "fill": {
              "color": "#C8D4E3"
             },
             "line": {
              "color": "white"
             }
            },
            "type": "table"
           }
          ]
         },
         "layout": {
          "annotationdefaults": {
           "arrowcolor": "#2a3f5f",
           "arrowhead": 0,
           "arrowwidth": 1
          },
          "autotypenumbers": "strict",
          "coloraxis": {
           "colorbar": {
            "outlinewidth": 0,
            "ticks": ""
           }
          },
          "colorscale": {
           "diverging": [
            [
             0,
             "#8e0152"
            ],
            [
             0.1,
             "#c51b7d"
            ],
            [
             0.2,
             "#de77ae"
            ],
            [
             0.3,
             "#f1b6da"
            ],
            [
             0.4,
             "#fde0ef"
            ],
            [
             0.5,
             "#f7f7f7"
            ],
            [
             0.6,
             "#e6f5d0"
            ],
            [
             0.7,
             "#b8e186"
            ],
            [
             0.8,
             "#7fbc41"
            ],
            [
             0.9,
             "#4d9221"
            ],
            [
             1,
             "#276419"
            ]
           ],
           "sequential": [
            [
             0,
             "#0d0887"
            ],
            [
             0.1111111111111111,
             "#46039f"
            ],
            [
             0.2222222222222222,
             "#7201a8"
            ],
            [
             0.3333333333333333,
             "#9c179e"
            ],
            [
             0.4444444444444444,
             "#bd3786"
            ],
            [
             0.5555555555555556,
             "#d8576b"
            ],
            [
             0.6666666666666666,
             "#ed7953"
            ],
            [
             0.7777777777777778,
             "#fb9f3a"
            ],
            [
             0.8888888888888888,
             "#fdca26"
            ],
            [
             1,
             "#f0f921"
            ]
           ],
           "sequentialminus": [
            [
             0,
             "#0d0887"
            ],
            [
             0.1111111111111111,
             "#46039f"
            ],
            [
             0.2222222222222222,
             "#7201a8"
            ],
            [
             0.3333333333333333,
             "#9c179e"
            ],
            [
             0.4444444444444444,
             "#bd3786"
            ],
            [
             0.5555555555555556,
             "#d8576b"
            ],
            [
             0.6666666666666666,
             "#ed7953"
            ],
            [
             0.7777777777777778,
             "#fb9f3a"
            ],
            [
             0.8888888888888888,
             "#fdca26"
            ],
            [
             1,
             "#f0f921"
            ]
           ]
          },
          "colorway": [
           "#636efa",
           "#EF553B",
           "#00cc96",
           "#ab63fa",
           "#FFA15A",
           "#19d3f3",
           "#FF6692",
           "#B6E880",
           "#FF97FF",
           "#FECB52"
          ],
          "font": {
           "color": "#2a3f5f"
          },
          "geo": {
           "bgcolor": "white",
           "lakecolor": "white",
           "landcolor": "#E5ECF6",
           "showlakes": true,
           "showland": true,
           "subunitcolor": "white"
          },
          "hoverlabel": {
           "align": "left"
          },
          "hovermode": "closest",
          "mapbox": {
           "style": "light"
          },
          "paper_bgcolor": "white",
          "plot_bgcolor": "#E5ECF6",
          "polar": {
           "angularaxis": {
            "gridcolor": "white",
            "linecolor": "white",
            "ticks": ""
           },
           "bgcolor": "#E5ECF6",
           "radialaxis": {
            "gridcolor": "white",
            "linecolor": "white",
            "ticks": ""
           }
          },
          "scene": {
           "xaxis": {
            "backgroundcolor": "#E5ECF6",
            "gridcolor": "white",
            "gridwidth": 2,
            "linecolor": "white",
            "showbackground": true,
            "ticks": "",
            "zerolinecolor": "white"
           },
           "yaxis": {
            "backgroundcolor": "#E5ECF6",
            "gridcolor": "white",
            "gridwidth": 2,
            "linecolor": "white",
            "showbackground": true,
            "ticks": "",
            "zerolinecolor": "white"
           },
           "zaxis": {
            "backgroundcolor": "#E5ECF6",
            "gridcolor": "white",
            "gridwidth": 2,
            "linecolor": "white",
            "showbackground": true,
            "ticks": "",
            "zerolinecolor": "white"
           }
          },
          "shapedefaults": {
           "line": {
            "color": "#2a3f5f"
           }
          },
          "ternary": {
           "aaxis": {
            "gridcolor": "white",
            "linecolor": "white",
            "ticks": ""
           },
           "baxis": {
            "gridcolor": "white",
            "linecolor": "white",
            "ticks": ""
           },
           "bgcolor": "#E5ECF6",
           "caxis": {
            "gridcolor": "white",
            "linecolor": "white",
            "ticks": ""
           }
          },
          "title": {
           "x": 0.05
          },
          "xaxis": {
           "automargin": true,
           "gridcolor": "white",
           "linecolor": "white",
           "ticks": "",
           "title": {
            "standoff": 15
           },
           "zerolinecolor": "white",
           "zerolinewidth": 2
          },
          "yaxis": {
           "automargin": true,
           "gridcolor": "white",
           "linecolor": "white",
           "ticks": "",
           "title": {
            "standoff": 15
           },
           "zerolinecolor": "white",
           "zerolinewidth": 2
          }
         }
        },
        "title": {
         "text": "Spending by Category"
        },
        "xaxis": {
         "title": {
          "text": "Total Spending"
         }
        },
        "yaxis": {
         "automargin": true,
         "title": {
          "text": "Category"
         }
        }
       }
      }
     },
     "metadata": {},
     "output_type": "display_data"
    },
    {
     "name": "stdout",
     "output_type": "stream",
     "text": [
      "\n"
     ]
    },
    {
     "data": {
      "application/vnd.plotly.v1+json": {
       "config": {
        "plotlyServerURL": "https://plot.ly"
       },
       "data": [
        {
         "marker": {
          "color": "rgba(219, 64, 82, 0.6)"
         },
         "orientation": "h",
         "text": [
          "₹36,163.56",
          "₹29,313.82",
          "₹24,426.33",
          "₹18,895.75",
          "₹14,781.58",
          "₹14,433.11",
          "₹8,336.37",
          "₹6,870.80",
          "₹4,949.67"
         ],
         "textposition": "auto",
         "type": "bar",
         "x": [
          36163.56,
          29313.820000000003,
          24426.33,
          18895.75,
          14781.579999999998,
          14433.110000000004,
          8336.369999999999,
          6870.800000000001,
          4949.670000000001
         ],
         "y": [
          "Sports & Outdoors",
          "Automotive",
          "Grocery",
          "Beauty & Personal Care",
          "Home & Kitchen",
          "Toys & Games",
          "Electronics",
          "Health & Household",
          "Fashion"
         ]
        }
       ],
       "layout": {
        "margin": {
         "b": 50,
         "l": 150,
         "r": 20,
         "t": 50
        },
        "showlegend": false,
        "template": {
         "data": {
          "bar": [
           {
            "error_x": {
             "color": "#2a3f5f"
            },
            "error_y": {
             "color": "#2a3f5f"
            },
            "marker": {
             "line": {
              "color": "#E5ECF6",
              "width": 0.5
             },
             "pattern": {
              "fillmode": "overlay",
              "size": 10,
              "solidity": 0.2
             }
            },
            "type": "bar"
           }
          ],
          "barpolar": [
           {
            "marker": {
             "line": {
              "color": "#E5ECF6",
              "width": 0.5
             },
             "pattern": {
              "fillmode": "overlay",
              "size": 10,
              "solidity": 0.2
             }
            },
            "type": "barpolar"
           }
          ],
          "carpet": [
           {
            "aaxis": {
             "endlinecolor": "#2a3f5f",
             "gridcolor": "white",
             "linecolor": "white",
             "minorgridcolor": "white",
             "startlinecolor": "#2a3f5f"
            },
            "baxis": {
             "endlinecolor": "#2a3f5f",
             "gridcolor": "white",
             "linecolor": "white",
             "minorgridcolor": "white",
             "startlinecolor": "#2a3f5f"
            },
            "type": "carpet"
           }
          ],
          "choropleth": [
           {
            "colorbar": {
             "outlinewidth": 0,
             "ticks": ""
            },
            "type": "choropleth"
           }
          ],
          "contour": [
           {
            "colorbar": {
             "outlinewidth": 0,
             "ticks": ""
            },
            "colorscale": [
             [
              0,
              "#0d0887"
             ],
             [
              0.1111111111111111,
              "#46039f"
             ],
             [
              0.2222222222222222,
              "#7201a8"
             ],
             [
              0.3333333333333333,
              "#9c179e"
             ],
             [
              0.4444444444444444,
              "#bd3786"
             ],
             [
              0.5555555555555556,
              "#d8576b"
             ],
             [
              0.6666666666666666,
              "#ed7953"
             ],
             [
              0.7777777777777778,
              "#fb9f3a"
             ],
             [
              0.8888888888888888,
              "#fdca26"
             ],
             [
              1,
              "#f0f921"
             ]
            ],
            "type": "contour"
           }
          ],
          "contourcarpet": [
           {
            "colorbar": {
             "outlinewidth": 0,
             "ticks": ""
            },
            "type": "contourcarpet"
           }
          ],
          "heatmap": [
           {
            "colorbar": {
             "outlinewidth": 0,
             "ticks": ""
            },
            "colorscale": [
             [
              0,
              "#0d0887"
             ],
             [
              0.1111111111111111,
              "#46039f"
             ],
             [
              0.2222222222222222,
              "#7201a8"
             ],
             [
              0.3333333333333333,
              "#9c179e"
             ],
             [
              0.4444444444444444,
              "#bd3786"
             ],
             [
              0.5555555555555556,
              "#d8576b"
             ],
             [
              0.6666666666666666,
              "#ed7953"
             ],
             [
              0.7777777777777778,
              "#fb9f3a"
             ],
             [
              0.8888888888888888,
              "#fdca26"
             ],
             [
              1,
              "#f0f921"
             ]
            ],
            "type": "heatmap"
           }
          ],
          "heatmapgl": [
           {
            "colorbar": {
             "outlinewidth": 0,
             "ticks": ""
            },
            "colorscale": [
             [
              0,
              "#0d0887"
             ],
             [
              0.1111111111111111,
              "#46039f"
             ],
             [
              0.2222222222222222,
              "#7201a8"
             ],
             [
              0.3333333333333333,
              "#9c179e"
             ],
             [
              0.4444444444444444,
              "#bd3786"
             ],
             [
              0.5555555555555556,
              "#d8576b"
             ],
             [
              0.6666666666666666,
              "#ed7953"
             ],
             [
              0.7777777777777778,
              "#fb9f3a"
             ],
             [
              0.8888888888888888,
              "#fdca26"
             ],
             [
              1,
              "#f0f921"
             ]
            ],
            "type": "heatmapgl"
           }
          ],
          "histogram": [
           {
            "marker": {
             "pattern": {
              "fillmode": "overlay",
              "size": 10,
              "solidity": 0.2
             }
            },
            "type": "histogram"
           }
          ],
          "histogram2d": [
           {
            "colorbar": {
             "outlinewidth": 0,
             "ticks": ""
            },
            "colorscale": [
             [
              0,
              "#0d0887"
             ],
             [
              0.1111111111111111,
              "#46039f"
             ],
             [
              0.2222222222222222,
              "#7201a8"
             ],
             [
              0.3333333333333333,
              "#9c179e"
             ],
             [
              0.4444444444444444,
              "#bd3786"
             ],
             [
              0.5555555555555556,
              "#d8576b"
             ],
             [
              0.6666666666666666,
              "#ed7953"
             ],
             [
              0.7777777777777778,
              "#fb9f3a"
             ],
             [
              0.8888888888888888,
              "#fdca26"
             ],
             [
              1,
              "#f0f921"
             ]
            ],
            "type": "histogram2d"
           }
          ],
          "histogram2dcontour": [
           {
            "colorbar": {
             "outlinewidth": 0,
             "ticks": ""
            },
            "colorscale": [
             [
              0,
              "#0d0887"
             ],
             [
              0.1111111111111111,
              "#46039f"
             ],
             [
              0.2222222222222222,
              "#7201a8"
             ],
             [
              0.3333333333333333,
              "#9c179e"
             ],
             [
              0.4444444444444444,
              "#bd3786"
             ],
             [
              0.5555555555555556,
              "#d8576b"
             ],
             [
              0.6666666666666666,
              "#ed7953"
             ],
             [
              0.7777777777777778,
              "#fb9f3a"
             ],
             [
              0.8888888888888888,
              "#fdca26"
             ],
             [
              1,
              "#f0f921"
             ]
            ],
            "type": "histogram2dcontour"
           }
          ],
          "mesh3d": [
           {
            "colorbar": {
             "outlinewidth": 0,
             "ticks": ""
            },
            "type": "mesh3d"
           }
          ],
          "parcoords": [
           {
            "line": {
             "colorbar": {
              "outlinewidth": 0,
              "ticks": ""
             }
            },
            "type": "parcoords"
           }
          ],
          "pie": [
           {
            "automargin": true,
            "type": "pie"
           }
          ],
          "scatter": [
           {
            "fillpattern": {
             "fillmode": "overlay",
             "size": 10,
             "solidity": 0.2
            },
            "type": "scatter"
           }
          ],
          "scatter3d": [
           {
            "line": {
             "colorbar": {
              "outlinewidth": 0,
              "ticks": ""
             }
            },
            "marker": {
             "colorbar": {
              "outlinewidth": 0,
              "ticks": ""
             }
            },
            "type": "scatter3d"
           }
          ],
          "scattercarpet": [
           {
            "marker": {
             "colorbar": {
              "outlinewidth": 0,
              "ticks": ""
             }
            },
            "type": "scattercarpet"
           }
          ],
          "scattergeo": [
           {
            "marker": {
             "colorbar": {
              "outlinewidth": 0,
              "ticks": ""
             }
            },
            "type": "scattergeo"
           }
          ],
          "scattergl": [
           {
            "marker": {
             "colorbar": {
              "outlinewidth": 0,
              "ticks": ""
             }
            },
            "type": "scattergl"
           }
          ],
          "scattermapbox": [
           {
            "marker": {
             "colorbar": {
              "outlinewidth": 0,
              "ticks": ""
             }
            },
            "type": "scattermapbox"
           }
          ],
          "scatterpolar": [
           {
            "marker": {
             "colorbar": {
              "outlinewidth": 0,
              "ticks": ""
             }
            },
            "type": "scatterpolar"
           }
          ],
          "scatterpolargl": [
           {
            "marker": {
             "colorbar": {
              "outlinewidth": 0,
              "ticks": ""
             }
            },
            "type": "scatterpolargl"
           }
          ],
          "scatterternary": [
           {
            "marker": {
             "colorbar": {
              "outlinewidth": 0,
              "ticks": ""
             }
            },
            "type": "scatterternary"
           }
          ],
          "surface": [
           {
            "colorbar": {
             "outlinewidth": 0,
             "ticks": ""
            },
            "colorscale": [
             [
              0,
              "#0d0887"
             ],
             [
              0.1111111111111111,
              "#46039f"
             ],
             [
              0.2222222222222222,
              "#7201a8"
             ],
             [
              0.3333333333333333,
              "#9c179e"
             ],
             [
              0.4444444444444444,
              "#bd3786"
             ],
             [
              0.5555555555555556,
              "#d8576b"
             ],
             [
              0.6666666666666666,
              "#ed7953"
             ],
             [
              0.7777777777777778,
              "#fb9f3a"
             ],
             [
              0.8888888888888888,
              "#fdca26"
             ],
             [
              1,
              "#f0f921"
             ]
            ],
            "type": "surface"
           }
          ],
          "table": [
           {
            "cells": {
             "fill": {
              "color": "#EBF0F8"
             },
             "line": {
              "color": "white"
             }
            },
            "header": {
             "fill": {
              "color": "#C8D4E3"
             },
             "line": {
              "color": "white"
             }
            },
            "type": "table"
           }
          ]
         },
         "layout": {
          "annotationdefaults": {
           "arrowcolor": "#2a3f5f",
           "arrowhead": 0,
           "arrowwidth": 1
          },
          "autotypenumbers": "strict",
          "coloraxis": {
           "colorbar": {
            "outlinewidth": 0,
            "ticks": ""
           }
          },
          "colorscale": {
           "diverging": [
            [
             0,
             "#8e0152"
            ],
            [
             0.1,
             "#c51b7d"
            ],
            [
             0.2,
             "#de77ae"
            ],
            [
             0.3,
             "#f1b6da"
            ],
            [
             0.4,
             "#fde0ef"
            ],
            [
             0.5,
             "#f7f7f7"
            ],
            [
             0.6,
             "#e6f5d0"
            ],
            [
             0.7,
             "#b8e186"
            ],
            [
             0.8,
             "#7fbc41"
            ],
            [
             0.9,
             "#4d9221"
            ],
            [
             1,
             "#276419"
            ]
           ],
           "sequential": [
            [
             0,
             "#0d0887"
            ],
            [
             0.1111111111111111,
             "#46039f"
            ],
            [
             0.2222222222222222,
             "#7201a8"
            ],
            [
             0.3333333333333333,
             "#9c179e"
            ],
            [
             0.4444444444444444,
             "#bd3786"
            ],
            [
             0.5555555555555556,
             "#d8576b"
            ],
            [
             0.6666666666666666,
             "#ed7953"
            ],
            [
             0.7777777777777778,
             "#fb9f3a"
            ],
            [
             0.8888888888888888,
             "#fdca26"
            ],
            [
             1,
             "#f0f921"
            ]
           ],
           "sequentialminus": [
            [
             0,
             "#0d0887"
            ],
            [
             0.1111111111111111,
             "#46039f"
            ],
            [
             0.2222222222222222,
             "#7201a8"
            ],
            [
             0.3333333333333333,
             "#9c179e"
            ],
            [
             0.4444444444444444,
             "#bd3786"
            ],
            [
             0.5555555555555556,
             "#d8576b"
            ],
            [
             0.6666666666666666,
             "#ed7953"
            ],
            [
             0.7777777777777778,
             "#fb9f3a"
            ],
            [
             0.8888888888888888,
             "#fdca26"
            ],
            [
             1,
             "#f0f921"
            ]
           ]
          },
          "colorway": [
           "#636efa",
           "#EF553B",
           "#00cc96",
           "#ab63fa",
           "#FFA15A",
           "#19d3f3",
           "#FF6692",
           "#B6E880",
           "#FF97FF",
           "#FECB52"
          ],
          "font": {
           "color": "#2a3f5f"
          },
          "geo": {
           "bgcolor": "white",
           "lakecolor": "white",
           "landcolor": "#E5ECF6",
           "showlakes": true,
           "showland": true,
           "subunitcolor": "white"
          },
          "hoverlabel": {
           "align": "left"
          },
          "hovermode": "closest",
          "mapbox": {
           "style": "light"
          },
          "paper_bgcolor": "white",
          "plot_bgcolor": "#E5ECF6",
          "polar": {
           "angularaxis": {
            "gridcolor": "white",
            "linecolor": "white",
            "ticks": ""
           },
           "bgcolor": "#E5ECF6",
           "radialaxis": {
            "gridcolor": "white",
            "linecolor": "white",
            "ticks": ""
           }
          },
          "scene": {
           "xaxis": {
            "backgroundcolor": "#E5ECF6",
            "gridcolor": "white",
            "gridwidth": 2,
            "linecolor": "white",
            "showbackground": true,
            "ticks": "",
            "zerolinecolor": "white"
           },
           "yaxis": {
            "backgroundcolor": "#E5ECF6",
            "gridcolor": "white",
            "gridwidth": 2,
            "linecolor": "white",
            "showbackground": true,
            "ticks": "",
            "zerolinecolor": "white"
           },
           "zaxis": {
            "backgroundcolor": "#E5ECF6",
            "gridcolor": "white",
            "gridwidth": 2,
            "linecolor": "white",
            "showbackground": true,
            "ticks": "",
            "zerolinecolor": "white"
           }
          },
          "shapedefaults": {
           "line": {
            "color": "#2a3f5f"
           }
          },
          "ternary": {
           "aaxis": {
            "gridcolor": "white",
            "linecolor": "white",
            "ticks": ""
           },
           "baxis": {
            "gridcolor": "white",
            "linecolor": "white",
            "ticks": ""
           },
           "bgcolor": "#E5ECF6",
           "caxis": {
            "gridcolor": "white",
            "linecolor": "white",
            "ticks": ""
           }
          },
          "title": {
           "x": 0.05
          },
          "xaxis": {
           "automargin": true,
           "gridcolor": "white",
           "linecolor": "white",
           "ticks": "",
           "title": {
            "standoff": 15
           },
           "zerolinecolor": "white",
           "zerolinewidth": 2
          },
          "yaxis": {
           "automargin": true,
           "gridcolor": "white",
           "linecolor": "white",
           "ticks": "",
           "title": {
            "standoff": 15
           },
           "zerolinecolor": "white",
           "zerolinewidth": 2
          }
         }
        },
        "title": {
         "text": "Savings by Category"
        },
        "xaxis": {
         "title": {
          "text": "Total Savings"
         }
        },
        "yaxis": {
         "automargin": true,
         "title": {
          "text": "Category"
         }
        }
       }
      }
     },
     "metadata": {},
     "output_type": "display_data"
    }
   ],
   "source": [
    "\n",
    "\n",
    "def plot_spending_by_category(filtered_df, selected_year='Overall', selected_month='Overall'):\n",
    "    if selected_year != 'Overall':\n",
    "        filtered_df = filtered_df[filtered_df['Order Year'] == int(selected_year)]\n",
    "    if selected_month != 'Overall':\n",
    "        filtered_df = filtered_df[filtered_df['Order Month'] == selected_month]\n",
    "\n",
    "    category_spending = filtered_df.groupby('Product Category')['Price for Customer'].sum().reset_index()\n",
    "    category_spending = category_spending.sort_values(by='Price for Customer', ascending=False)\n",
    "    \n",
    "    trace = go.Bar(\n",
    "        x=category_spending['Price for Customer'],\n",
    "        y=category_spending['Product Category'],\n",
    "        orientation='h',\n",
    "        marker=dict(color='rgba(50, 171, 96, 0.6)'),\n",
    "        text=category_spending['Price for Customer'].apply(lambda x: f\"₹{x:,.2f}\"),\n",
    "        textposition='auto'\n",
    "    )\n",
    "    \n",
    "    layout = go.Layout(\n",
    "        title='Spending by Category',\n",
    "        xaxis=dict(title='Total Spending'),\n",
    "        yaxis=dict(title='Category', automargin=True),\n",
    "        margin=dict(l=150, r=20, t=50, b=50),\n",
    "        showlegend=False\n",
    "    )\n",
    "    \n",
    "    fig = go.Figure(data=[trace], layout=layout)\n",
    "    return fig\n",
    "\n",
    "def plot_savings_by_category(filtered_df, selected_year='Overall', selected_month='Overall'):\n",
    "    if selected_year != 'Overall':\n",
    "        filtered_df = filtered_df[filtered_df['Order Year'] == int(selected_year)]\n",
    "    if selected_month != 'Overall':\n",
    "        filtered_df = filtered_df[filtered_df['Order Month'] == selected_month]\n",
    "    \n",
    "    category_savings = filtered_df.groupby('Product Category')['Savings'].sum().reset_index()\n",
    "    category_savings = category_savings.sort_values(by='Savings', ascending=False)\n",
    "    \n",
    "    trace = go.Bar(\n",
    "        x=category_savings['Savings'],\n",
    "        y=category_savings['Product Category'],\n",
    "        orientation='h',\n",
    "        marker=dict(color='rgba(219, 64, 82, 0.6)'),\n",
    "        text=category_savings['Savings'].apply(lambda x: f\"₹{x:,.2f}\"),\n",
    "        textposition='auto'\n",
    "    )\n",
    "    \n",
    "    layout = go.Layout(\n",
    "        title='Savings by Category',\n",
    "        xaxis=dict(title='Total Savings'),\n",
    "        yaxis=dict(title='Category', automargin=True),\n",
    "        margin=dict(l=150, r=20, t=50, b=50),\n",
    "        showlegend=False\n",
    "    )\n",
    "    \n",
    "    fig = go.Figure(data=[trace], layout=layout)\n",
    "    return fig\n",
    "\n",
    "filtered_df = df.copy()  \n",
    "selected_year = 'Overall'\n",
    "selected_month = 'Overall'\n",
    "\n",
    "spending_fig = plot_spending_by_category(filtered_df, selected_year=selected_year, selected_month=selected_month)\n",
    "savings_fig = plot_savings_by_category(filtered_df, selected_year=selected_year, selected_month=selected_month)\n",
    "\n",
    "spending_fig.show()\n",
    "print()\n",
    "savings_fig.show()\n"
   ]
  },
  {
   "cell_type": "code",
   "execution_count": 18,
   "id": "e568720d-ef80-43c9-aaa2-25bc77480baa",
   "metadata": {},
   "outputs": [
    {
     "data": {
      "application/vnd.plotly.v1+json": {
       "config": {
        "plotlyServerURL": "https://plot.ly"
       },
       "data": [
        {
         "line": {
          "color": "rgb(50, 171, 96)"
         },
         "marker": {
          "size": 8,
          "symbol": "circle"
         },
         "mode": "lines+markers",
         "name": "Spending",
         "text": [
          "₹45,285.64",
          "₹51,649.60",
          "₹34,789.53",
          "₹30,016.98",
          "₹22,795.25",
          "₹43,565.28"
         ],
         "type": "scatter",
         "x": [
          "2024-01",
          "2024-02",
          "2024-03",
          "2024-04",
          "2024-05",
          "2024-06"
         ],
         "y": [
          45285.64,
          51649.6,
          34789.53,
          30016.980000000003,
          22795.25,
          43565.28
         ]
        }
       ],
       "layout": {
        "margin": {
         "b": 50,
         "l": 150,
         "r": 20,
         "t": 50
        },
        "showlegend": true,
        "template": {
         "data": {
          "bar": [
           {
            "error_x": {
             "color": "#2a3f5f"
            },
            "error_y": {
             "color": "#2a3f5f"
            },
            "marker": {
             "line": {
              "color": "#E5ECF6",
              "width": 0.5
             },
             "pattern": {
              "fillmode": "overlay",
              "size": 10,
              "solidity": 0.2
             }
            },
            "type": "bar"
           }
          ],
          "barpolar": [
           {
            "marker": {
             "line": {
              "color": "#E5ECF6",
              "width": 0.5
             },
             "pattern": {
              "fillmode": "overlay",
              "size": 10,
              "solidity": 0.2
             }
            },
            "type": "barpolar"
           }
          ],
          "carpet": [
           {
            "aaxis": {
             "endlinecolor": "#2a3f5f",
             "gridcolor": "white",
             "linecolor": "white",
             "minorgridcolor": "white",
             "startlinecolor": "#2a3f5f"
            },
            "baxis": {
             "endlinecolor": "#2a3f5f",
             "gridcolor": "white",
             "linecolor": "white",
             "minorgridcolor": "white",
             "startlinecolor": "#2a3f5f"
            },
            "type": "carpet"
           }
          ],
          "choropleth": [
           {
            "colorbar": {
             "outlinewidth": 0,
             "ticks": ""
            },
            "type": "choropleth"
           }
          ],
          "contour": [
           {
            "colorbar": {
             "outlinewidth": 0,
             "ticks": ""
            },
            "colorscale": [
             [
              0,
              "#0d0887"
             ],
             [
              0.1111111111111111,
              "#46039f"
             ],
             [
              0.2222222222222222,
              "#7201a8"
             ],
             [
              0.3333333333333333,
              "#9c179e"
             ],
             [
              0.4444444444444444,
              "#bd3786"
             ],
             [
              0.5555555555555556,
              "#d8576b"
             ],
             [
              0.6666666666666666,
              "#ed7953"
             ],
             [
              0.7777777777777778,
              "#fb9f3a"
             ],
             [
              0.8888888888888888,
              "#fdca26"
             ],
             [
              1,
              "#f0f921"
             ]
            ],
            "type": "contour"
           }
          ],
          "contourcarpet": [
           {
            "colorbar": {
             "outlinewidth": 0,
             "ticks": ""
            },
            "type": "contourcarpet"
           }
          ],
          "heatmap": [
           {
            "colorbar": {
             "outlinewidth": 0,
             "ticks": ""
            },
            "colorscale": [
             [
              0,
              "#0d0887"
             ],
             [
              0.1111111111111111,
              "#46039f"
             ],
             [
              0.2222222222222222,
              "#7201a8"
             ],
             [
              0.3333333333333333,
              "#9c179e"
             ],
             [
              0.4444444444444444,
              "#bd3786"
             ],
             [
              0.5555555555555556,
              "#d8576b"
             ],
             [
              0.6666666666666666,
              "#ed7953"
             ],
             [
              0.7777777777777778,
              "#fb9f3a"
             ],
             [
              0.8888888888888888,
              "#fdca26"
             ],
             [
              1,
              "#f0f921"
             ]
            ],
            "type": "heatmap"
           }
          ],
          "heatmapgl": [
           {
            "colorbar": {
             "outlinewidth": 0,
             "ticks": ""
            },
            "colorscale": [
             [
              0,
              "#0d0887"
             ],
             [
              0.1111111111111111,
              "#46039f"
             ],
             [
              0.2222222222222222,
              "#7201a8"
             ],
             [
              0.3333333333333333,
              "#9c179e"
             ],
             [
              0.4444444444444444,
              "#bd3786"
             ],
             [
              0.5555555555555556,
              "#d8576b"
             ],
             [
              0.6666666666666666,
              "#ed7953"
             ],
             [
              0.7777777777777778,
              "#fb9f3a"
             ],
             [
              0.8888888888888888,
              "#fdca26"
             ],
             [
              1,
              "#f0f921"
             ]
            ],
            "type": "heatmapgl"
           }
          ],
          "histogram": [
           {
            "marker": {
             "pattern": {
              "fillmode": "overlay",
              "size": 10,
              "solidity": 0.2
             }
            },
            "type": "histogram"
           }
          ],
          "histogram2d": [
           {
            "colorbar": {
             "outlinewidth": 0,
             "ticks": ""
            },
            "colorscale": [
             [
              0,
              "#0d0887"
             ],
             [
              0.1111111111111111,
              "#46039f"
             ],
             [
              0.2222222222222222,
              "#7201a8"
             ],
             [
              0.3333333333333333,
              "#9c179e"
             ],
             [
              0.4444444444444444,
              "#bd3786"
             ],
             [
              0.5555555555555556,
              "#d8576b"
             ],
             [
              0.6666666666666666,
              "#ed7953"
             ],
             [
              0.7777777777777778,
              "#fb9f3a"
             ],
             [
              0.8888888888888888,
              "#fdca26"
             ],
             [
              1,
              "#f0f921"
             ]
            ],
            "type": "histogram2d"
           }
          ],
          "histogram2dcontour": [
           {
            "colorbar": {
             "outlinewidth": 0,
             "ticks": ""
            },
            "colorscale": [
             [
              0,
              "#0d0887"
             ],
             [
              0.1111111111111111,
              "#46039f"
             ],
             [
              0.2222222222222222,
              "#7201a8"
             ],
             [
              0.3333333333333333,
              "#9c179e"
             ],
             [
              0.4444444444444444,
              "#bd3786"
             ],
             [
              0.5555555555555556,
              "#d8576b"
             ],
             [
              0.6666666666666666,
              "#ed7953"
             ],
             [
              0.7777777777777778,
              "#fb9f3a"
             ],
             [
              0.8888888888888888,
              "#fdca26"
             ],
             [
              1,
              "#f0f921"
             ]
            ],
            "type": "histogram2dcontour"
           }
          ],
          "mesh3d": [
           {
            "colorbar": {
             "outlinewidth": 0,
             "ticks": ""
            },
            "type": "mesh3d"
           }
          ],
          "parcoords": [
           {
            "line": {
             "colorbar": {
              "outlinewidth": 0,
              "ticks": ""
             }
            },
            "type": "parcoords"
           }
          ],
          "pie": [
           {
            "automargin": true,
            "type": "pie"
           }
          ],
          "scatter": [
           {
            "fillpattern": {
             "fillmode": "overlay",
             "size": 10,
             "solidity": 0.2
            },
            "type": "scatter"
           }
          ],
          "scatter3d": [
           {
            "line": {
             "colorbar": {
              "outlinewidth": 0,
              "ticks": ""
             }
            },
            "marker": {
             "colorbar": {
              "outlinewidth": 0,
              "ticks": ""
             }
            },
            "type": "scatter3d"
           }
          ],
          "scattercarpet": [
           {
            "marker": {
             "colorbar": {
              "outlinewidth": 0,
              "ticks": ""
             }
            },
            "type": "scattercarpet"
           }
          ],
          "scattergeo": [
           {
            "marker": {
             "colorbar": {
              "outlinewidth": 0,
              "ticks": ""
             }
            },
            "type": "scattergeo"
           }
          ],
          "scattergl": [
           {
            "marker": {
             "colorbar": {
              "outlinewidth": 0,
              "ticks": ""
             }
            },
            "type": "scattergl"
           }
          ],
          "scattermapbox": [
           {
            "marker": {
             "colorbar": {
              "outlinewidth": 0,
              "ticks": ""
             }
            },
            "type": "scattermapbox"
           }
          ],
          "scatterpolar": [
           {
            "marker": {
             "colorbar": {
              "outlinewidth": 0,
              "ticks": ""
             }
            },
            "type": "scatterpolar"
           }
          ],
          "scatterpolargl": [
           {
            "marker": {
             "colorbar": {
              "outlinewidth": 0,
              "ticks": ""
             }
            },
            "type": "scatterpolargl"
           }
          ],
          "scatterternary": [
           {
            "marker": {
             "colorbar": {
              "outlinewidth": 0,
              "ticks": ""
             }
            },
            "type": "scatterternary"
           }
          ],
          "surface": [
           {
            "colorbar": {
             "outlinewidth": 0,
             "ticks": ""
            },
            "colorscale": [
             [
              0,
              "#0d0887"
             ],
             [
              0.1111111111111111,
              "#46039f"
             ],
             [
              0.2222222222222222,
              "#7201a8"
             ],
             [
              0.3333333333333333,
              "#9c179e"
             ],
             [
              0.4444444444444444,
              "#bd3786"
             ],
             [
              0.5555555555555556,
              "#d8576b"
             ],
             [
              0.6666666666666666,
              "#ed7953"
             ],
             [
              0.7777777777777778,
              "#fb9f3a"
             ],
             [
              0.8888888888888888,
              "#fdca26"
             ],
             [
              1,
              "#f0f921"
             ]
            ],
            "type": "surface"
           }
          ],
          "table": [
           {
            "cells": {
             "fill": {
              "color": "#EBF0F8"
             },
             "line": {
              "color": "white"
             }
            },
            "header": {
             "fill": {
              "color": "#C8D4E3"
             },
             "line": {
              "color": "white"
             }
            },
            "type": "table"
           }
          ]
         },
         "layout": {
          "annotationdefaults": {
           "arrowcolor": "#2a3f5f",
           "arrowhead": 0,
           "arrowwidth": 1
          },
          "autotypenumbers": "strict",
          "coloraxis": {
           "colorbar": {
            "outlinewidth": 0,
            "ticks": ""
           }
          },
          "colorscale": {
           "diverging": [
            [
             0,
             "#8e0152"
            ],
            [
             0.1,
             "#c51b7d"
            ],
            [
             0.2,
             "#de77ae"
            ],
            [
             0.3,
             "#f1b6da"
            ],
            [
             0.4,
             "#fde0ef"
            ],
            [
             0.5,
             "#f7f7f7"
            ],
            [
             0.6,
             "#e6f5d0"
            ],
            [
             0.7,
             "#b8e186"
            ],
            [
             0.8,
             "#7fbc41"
            ],
            [
             0.9,
             "#4d9221"
            ],
            [
             1,
             "#276419"
            ]
           ],
           "sequential": [
            [
             0,
             "#0d0887"
            ],
            [
             0.1111111111111111,
             "#46039f"
            ],
            [
             0.2222222222222222,
             "#7201a8"
            ],
            [
             0.3333333333333333,
             "#9c179e"
            ],
            [
             0.4444444444444444,
             "#bd3786"
            ],
            [
             0.5555555555555556,
             "#d8576b"
            ],
            [
             0.6666666666666666,
             "#ed7953"
            ],
            [
             0.7777777777777778,
             "#fb9f3a"
            ],
            [
             0.8888888888888888,
             "#fdca26"
            ],
            [
             1,
             "#f0f921"
            ]
           ],
           "sequentialminus": [
            [
             0,
             "#0d0887"
            ],
            [
             0.1111111111111111,
             "#46039f"
            ],
            [
             0.2222222222222222,
             "#7201a8"
            ],
            [
             0.3333333333333333,
             "#9c179e"
            ],
            [
             0.4444444444444444,
             "#bd3786"
            ],
            [
             0.5555555555555556,
             "#d8576b"
            ],
            [
             0.6666666666666666,
             "#ed7953"
            ],
            [
             0.7777777777777778,
             "#fb9f3a"
            ],
            [
             0.8888888888888888,
             "#fdca26"
            ],
            [
             1,
             "#f0f921"
            ]
           ]
          },
          "colorway": [
           "#636efa",
           "#EF553B",
           "#00cc96",
           "#ab63fa",
           "#FFA15A",
           "#19d3f3",
           "#FF6692",
           "#B6E880",
           "#FF97FF",
           "#FECB52"
          ],
          "font": {
           "color": "#2a3f5f"
          },
          "geo": {
           "bgcolor": "white",
           "lakecolor": "white",
           "landcolor": "#E5ECF6",
           "showlakes": true,
           "showland": true,
           "subunitcolor": "white"
          },
          "hoverlabel": {
           "align": "left"
          },
          "hovermode": "closest",
          "mapbox": {
           "style": "light"
          },
          "paper_bgcolor": "white",
          "plot_bgcolor": "#E5ECF6",
          "polar": {
           "angularaxis": {
            "gridcolor": "white",
            "linecolor": "white",
            "ticks": ""
           },
           "bgcolor": "#E5ECF6",
           "radialaxis": {
            "gridcolor": "white",
            "linecolor": "white",
            "ticks": ""
           }
          },
          "scene": {
           "xaxis": {
            "backgroundcolor": "#E5ECF6",
            "gridcolor": "white",
            "gridwidth": 2,
            "linecolor": "white",
            "showbackground": true,
            "ticks": "",
            "zerolinecolor": "white"
           },
           "yaxis": {
            "backgroundcolor": "#E5ECF6",
            "gridcolor": "white",
            "gridwidth": 2,
            "linecolor": "white",
            "showbackground": true,
            "ticks": "",
            "zerolinecolor": "white"
           },
           "zaxis": {
            "backgroundcolor": "#E5ECF6",
            "gridcolor": "white",
            "gridwidth": 2,
            "linecolor": "white",
            "showbackground": true,
            "ticks": "",
            "zerolinecolor": "white"
           }
          },
          "shapedefaults": {
           "line": {
            "color": "#2a3f5f"
           }
          },
          "ternary": {
           "aaxis": {
            "gridcolor": "white",
            "linecolor": "white",
            "ticks": ""
           },
           "baxis": {
            "gridcolor": "white",
            "linecolor": "white",
            "ticks": ""
           },
           "bgcolor": "#E5ECF6",
           "caxis": {
            "gridcolor": "white",
            "linecolor": "white",
            "ticks": ""
           }
          },
          "title": {
           "x": 0.05
          },
          "xaxis": {
           "automargin": true,
           "gridcolor": "white",
           "linecolor": "white",
           "ticks": "",
           "title": {
            "standoff": 15
           },
           "zerolinecolor": "white",
           "zerolinewidth": 2
          },
          "yaxis": {
           "automargin": true,
           "gridcolor": "white",
           "linecolor": "white",
           "ticks": "",
           "title": {
            "standoff": 15
           },
           "zerolinecolor": "white",
           "zerolinewidth": 2
          }
         }
        },
        "title": {
         "text": "Monthly Spending"
        },
        "xaxis": {
         "title": {
          "text": "Date"
         }
        },
        "yaxis": {
         "title": {
          "text": "Total Spending"
         }
        }
       }
      }
     },
     "metadata": {},
     "output_type": "display_data"
    },
    {
     "data": {
      "application/vnd.plotly.v1+json": {
       "config": {
        "plotlyServerURL": "https://plot.ly"
       },
       "data": [
        {
         "line": {
          "color": "rgb(219, 64, 82)"
         },
         "marker": {
          "size": 8,
          "symbol": "circle"
         },
         "mode": "lines+markers",
         "name": "Savings",
         "text": [
          "₹14,223.04",
          "₹26,555.93",
          "₹9,412.58",
          "₹5,010.73",
          "₹9,063.25",
          "₹19,212.36"
         ],
         "type": "scatter",
         "x": [
          "2024-01",
          "2024-02",
          "2024-03",
          "2024-04",
          "2024-05",
          "2024-06"
         ],
         "y": [
          14223.039999999999,
          26555.93,
          9412.580000000002,
          5010.73,
          9063.25,
          19212.36
         ]
        }
       ],
       "layout": {
        "margin": {
         "b": 50,
         "l": 150,
         "r": 20,
         "t": 50
        },
        "showlegend": true,
        "template": {
         "data": {
          "bar": [
           {
            "error_x": {
             "color": "#2a3f5f"
            },
            "error_y": {
             "color": "#2a3f5f"
            },
            "marker": {
             "line": {
              "color": "#E5ECF6",
              "width": 0.5
             },
             "pattern": {
              "fillmode": "overlay",
              "size": 10,
              "solidity": 0.2
             }
            },
            "type": "bar"
           }
          ],
          "barpolar": [
           {
            "marker": {
             "line": {
              "color": "#E5ECF6",
              "width": 0.5
             },
             "pattern": {
              "fillmode": "overlay",
              "size": 10,
              "solidity": 0.2
             }
            },
            "type": "barpolar"
           }
          ],
          "carpet": [
           {
            "aaxis": {
             "endlinecolor": "#2a3f5f",
             "gridcolor": "white",
             "linecolor": "white",
             "minorgridcolor": "white",
             "startlinecolor": "#2a3f5f"
            },
            "baxis": {
             "endlinecolor": "#2a3f5f",
             "gridcolor": "white",
             "linecolor": "white",
             "minorgridcolor": "white",
             "startlinecolor": "#2a3f5f"
            },
            "type": "carpet"
           }
          ],
          "choropleth": [
           {
            "colorbar": {
             "outlinewidth": 0,
             "ticks": ""
            },
            "type": "choropleth"
           }
          ],
          "contour": [
           {
            "colorbar": {
             "outlinewidth": 0,
             "ticks": ""
            },
            "colorscale": [
             [
              0,
              "#0d0887"
             ],
             [
              0.1111111111111111,
              "#46039f"
             ],
             [
              0.2222222222222222,
              "#7201a8"
             ],
             [
              0.3333333333333333,
              "#9c179e"
             ],
             [
              0.4444444444444444,
              "#bd3786"
             ],
             [
              0.5555555555555556,
              "#d8576b"
             ],
             [
              0.6666666666666666,
              "#ed7953"
             ],
             [
              0.7777777777777778,
              "#fb9f3a"
             ],
             [
              0.8888888888888888,
              "#fdca26"
             ],
             [
              1,
              "#f0f921"
             ]
            ],
            "type": "contour"
           }
          ],
          "contourcarpet": [
           {
            "colorbar": {
             "outlinewidth": 0,
             "ticks": ""
            },
            "type": "contourcarpet"
           }
          ],
          "heatmap": [
           {
            "colorbar": {
             "outlinewidth": 0,
             "ticks": ""
            },
            "colorscale": [
             [
              0,
              "#0d0887"
             ],
             [
              0.1111111111111111,
              "#46039f"
             ],
             [
              0.2222222222222222,
              "#7201a8"
             ],
             [
              0.3333333333333333,
              "#9c179e"
             ],
             [
              0.4444444444444444,
              "#bd3786"
             ],
             [
              0.5555555555555556,
              "#d8576b"
             ],
             [
              0.6666666666666666,
              "#ed7953"
             ],
             [
              0.7777777777777778,
              "#fb9f3a"
             ],
             [
              0.8888888888888888,
              "#fdca26"
             ],
             [
              1,
              "#f0f921"
             ]
            ],
            "type": "heatmap"
           }
          ],
          "heatmapgl": [
           {
            "colorbar": {
             "outlinewidth": 0,
             "ticks": ""
            },
            "colorscale": [
             [
              0,
              "#0d0887"
             ],
             [
              0.1111111111111111,
              "#46039f"
             ],
             [
              0.2222222222222222,
              "#7201a8"
             ],
             [
              0.3333333333333333,
              "#9c179e"
             ],
             [
              0.4444444444444444,
              "#bd3786"
             ],
             [
              0.5555555555555556,
              "#d8576b"
             ],
             [
              0.6666666666666666,
              "#ed7953"
             ],
             [
              0.7777777777777778,
              "#fb9f3a"
             ],
             [
              0.8888888888888888,
              "#fdca26"
             ],
             [
              1,
              "#f0f921"
             ]
            ],
            "type": "heatmapgl"
           }
          ],
          "histogram": [
           {
            "marker": {
             "pattern": {
              "fillmode": "overlay",
              "size": 10,
              "solidity": 0.2
             }
            },
            "type": "histogram"
           }
          ],
          "histogram2d": [
           {
            "colorbar": {
             "outlinewidth": 0,
             "ticks": ""
            },
            "colorscale": [
             [
              0,
              "#0d0887"
             ],
             [
              0.1111111111111111,
              "#46039f"
             ],
             [
              0.2222222222222222,
              "#7201a8"
             ],
             [
              0.3333333333333333,
              "#9c179e"
             ],
             [
              0.4444444444444444,
              "#bd3786"
             ],
             [
              0.5555555555555556,
              "#d8576b"
             ],
             [
              0.6666666666666666,
              "#ed7953"
             ],
             [
              0.7777777777777778,
              "#fb9f3a"
             ],
             [
              0.8888888888888888,
              "#fdca26"
             ],
             [
              1,
              "#f0f921"
             ]
            ],
            "type": "histogram2d"
           }
          ],
          "histogram2dcontour": [
           {
            "colorbar": {
             "outlinewidth": 0,
             "ticks": ""
            },
            "colorscale": [
             [
              0,
              "#0d0887"
             ],
             [
              0.1111111111111111,
              "#46039f"
             ],
             [
              0.2222222222222222,
              "#7201a8"
             ],
             [
              0.3333333333333333,
              "#9c179e"
             ],
             [
              0.4444444444444444,
              "#bd3786"
             ],
             [
              0.5555555555555556,
              "#d8576b"
             ],
             [
              0.6666666666666666,
              "#ed7953"
             ],
             [
              0.7777777777777778,
              "#fb9f3a"
             ],
             [
              0.8888888888888888,
              "#fdca26"
             ],
             [
              1,
              "#f0f921"
             ]
            ],
            "type": "histogram2dcontour"
           }
          ],
          "mesh3d": [
           {
            "colorbar": {
             "outlinewidth": 0,
             "ticks": ""
            },
            "type": "mesh3d"
           }
          ],
          "parcoords": [
           {
            "line": {
             "colorbar": {
              "outlinewidth": 0,
              "ticks": ""
             }
            },
            "type": "parcoords"
           }
          ],
          "pie": [
           {
            "automargin": true,
            "type": "pie"
           }
          ],
          "scatter": [
           {
            "fillpattern": {
             "fillmode": "overlay",
             "size": 10,
             "solidity": 0.2
            },
            "type": "scatter"
           }
          ],
          "scatter3d": [
           {
            "line": {
             "colorbar": {
              "outlinewidth": 0,
              "ticks": ""
             }
            },
            "marker": {
             "colorbar": {
              "outlinewidth": 0,
              "ticks": ""
             }
            },
            "type": "scatter3d"
           }
          ],
          "scattercarpet": [
           {
            "marker": {
             "colorbar": {
              "outlinewidth": 0,
              "ticks": ""
             }
            },
            "type": "scattercarpet"
           }
          ],
          "scattergeo": [
           {
            "marker": {
             "colorbar": {
              "outlinewidth": 0,
              "ticks": ""
             }
            },
            "type": "scattergeo"
           }
          ],
          "scattergl": [
           {
            "marker": {
             "colorbar": {
              "outlinewidth": 0,
              "ticks": ""
             }
            },
            "type": "scattergl"
           }
          ],
          "scattermapbox": [
           {
            "marker": {
             "colorbar": {
              "outlinewidth": 0,
              "ticks": ""
             }
            },
            "type": "scattermapbox"
           }
          ],
          "scatterpolar": [
           {
            "marker": {
             "colorbar": {
              "outlinewidth": 0,
              "ticks": ""
             }
            },
            "type": "scatterpolar"
           }
          ],
          "scatterpolargl": [
           {
            "marker": {
             "colorbar": {
              "outlinewidth": 0,
              "ticks": ""
             }
            },
            "type": "scatterpolargl"
           }
          ],
          "scatterternary": [
           {
            "marker": {
             "colorbar": {
              "outlinewidth": 0,
              "ticks": ""
             }
            },
            "type": "scatterternary"
           }
          ],
          "surface": [
           {
            "colorbar": {
             "outlinewidth": 0,
             "ticks": ""
            },
            "colorscale": [
             [
              0,
              "#0d0887"
             ],
             [
              0.1111111111111111,
              "#46039f"
             ],
             [
              0.2222222222222222,
              "#7201a8"
             ],
             [
              0.3333333333333333,
              "#9c179e"
             ],
             [
              0.4444444444444444,
              "#bd3786"
             ],
             [
              0.5555555555555556,
              "#d8576b"
             ],
             [
              0.6666666666666666,
              "#ed7953"
             ],
             [
              0.7777777777777778,
              "#fb9f3a"
             ],
             [
              0.8888888888888888,
              "#fdca26"
             ],
             [
              1,
              "#f0f921"
             ]
            ],
            "type": "surface"
           }
          ],
          "table": [
           {
            "cells": {
             "fill": {
              "color": "#EBF0F8"
             },
             "line": {
              "color": "white"
             }
            },
            "header": {
             "fill": {
              "color": "#C8D4E3"
             },
             "line": {
              "color": "white"
             }
            },
            "type": "table"
           }
          ]
         },
         "layout": {
          "annotationdefaults": {
           "arrowcolor": "#2a3f5f",
           "arrowhead": 0,
           "arrowwidth": 1
          },
          "autotypenumbers": "strict",
          "coloraxis": {
           "colorbar": {
            "outlinewidth": 0,
            "ticks": ""
           }
          },
          "colorscale": {
           "diverging": [
            [
             0,
             "#8e0152"
            ],
            [
             0.1,
             "#c51b7d"
            ],
            [
             0.2,
             "#de77ae"
            ],
            [
             0.3,
             "#f1b6da"
            ],
            [
             0.4,
             "#fde0ef"
            ],
            [
             0.5,
             "#f7f7f7"
            ],
            [
             0.6,
             "#e6f5d0"
            ],
            [
             0.7,
             "#b8e186"
            ],
            [
             0.8,
             "#7fbc41"
            ],
            [
             0.9,
             "#4d9221"
            ],
            [
             1,
             "#276419"
            ]
           ],
           "sequential": [
            [
             0,
             "#0d0887"
            ],
            [
             0.1111111111111111,
             "#46039f"
            ],
            [
             0.2222222222222222,
             "#7201a8"
            ],
            [
             0.3333333333333333,
             "#9c179e"
            ],
            [
             0.4444444444444444,
             "#bd3786"
            ],
            [
             0.5555555555555556,
             "#d8576b"
            ],
            [
             0.6666666666666666,
             "#ed7953"
            ],
            [
             0.7777777777777778,
             "#fb9f3a"
            ],
            [
             0.8888888888888888,
             "#fdca26"
            ],
            [
             1,
             "#f0f921"
            ]
           ],
           "sequentialminus": [
            [
             0,
             "#0d0887"
            ],
            [
             0.1111111111111111,
             "#46039f"
            ],
            [
             0.2222222222222222,
             "#7201a8"
            ],
            [
             0.3333333333333333,
             "#9c179e"
            ],
            [
             0.4444444444444444,
             "#bd3786"
            ],
            [
             0.5555555555555556,
             "#d8576b"
            ],
            [
             0.6666666666666666,
             "#ed7953"
            ],
            [
             0.7777777777777778,
             "#fb9f3a"
            ],
            [
             0.8888888888888888,
             "#fdca26"
            ],
            [
             1,
             "#f0f921"
            ]
           ]
          },
          "colorway": [
           "#636efa",
           "#EF553B",
           "#00cc96",
           "#ab63fa",
           "#FFA15A",
           "#19d3f3",
           "#FF6692",
           "#B6E880",
           "#FF97FF",
           "#FECB52"
          ],
          "font": {
           "color": "#2a3f5f"
          },
          "geo": {
           "bgcolor": "white",
           "lakecolor": "white",
           "landcolor": "#E5ECF6",
           "showlakes": true,
           "showland": true,
           "subunitcolor": "white"
          },
          "hoverlabel": {
           "align": "left"
          },
          "hovermode": "closest",
          "mapbox": {
           "style": "light"
          },
          "paper_bgcolor": "white",
          "plot_bgcolor": "#E5ECF6",
          "polar": {
           "angularaxis": {
            "gridcolor": "white",
            "linecolor": "white",
            "ticks": ""
           },
           "bgcolor": "#E5ECF6",
           "radialaxis": {
            "gridcolor": "white",
            "linecolor": "white",
            "ticks": ""
           }
          },
          "scene": {
           "xaxis": {
            "backgroundcolor": "#E5ECF6",
            "gridcolor": "white",
            "gridwidth": 2,
            "linecolor": "white",
            "showbackground": true,
            "ticks": "",
            "zerolinecolor": "white"
           },
           "yaxis": {
            "backgroundcolor": "#E5ECF6",
            "gridcolor": "white",
            "gridwidth": 2,
            "linecolor": "white",
            "showbackground": true,
            "ticks": "",
            "zerolinecolor": "white"
           },
           "zaxis": {
            "backgroundcolor": "#E5ECF6",
            "gridcolor": "white",
            "gridwidth": 2,
            "linecolor": "white",
            "showbackground": true,
            "ticks": "",
            "zerolinecolor": "white"
           }
          },
          "shapedefaults": {
           "line": {
            "color": "#2a3f5f"
           }
          },
          "ternary": {
           "aaxis": {
            "gridcolor": "white",
            "linecolor": "white",
            "ticks": ""
           },
           "baxis": {
            "gridcolor": "white",
            "linecolor": "white",
            "ticks": ""
           },
           "bgcolor": "#E5ECF6",
           "caxis": {
            "gridcolor": "white",
            "linecolor": "white",
            "ticks": ""
           }
          },
          "title": {
           "x": 0.05
          },
          "xaxis": {
           "automargin": true,
           "gridcolor": "white",
           "linecolor": "white",
           "ticks": "",
           "title": {
            "standoff": 15
           },
           "zerolinecolor": "white",
           "zerolinewidth": 2
          },
          "yaxis": {
           "automargin": true,
           "gridcolor": "white",
           "linecolor": "white",
           "ticks": "",
           "title": {
            "standoff": 15
           },
           "zerolinecolor": "white",
           "zerolinewidth": 2
          }
         }
        },
        "title": {
         "text": "Monthly Savings"
        },
        "xaxis": {
         "title": {
          "text": "Date"
         }
        },
        "yaxis": {
         "title": {
          "text": "Total Savings"
         }
        }
       }
      }
     },
     "metadata": {},
     "output_type": "display_data"
    }
   ],
   "source": [
    "\n",
    "def plot_spending_over_months(filtered_df, selected_year='Overall'):\n",
    "    if selected_year != 'Overall':\n",
    "        filtered_df = filtered_df[pd.to_datetime(filtered_df['Order Date']).dt.year == int(selected_year)]\n",
    "\n",
    "    monthly_spending = filtered_df.groupby(pd.to_datetime(filtered_df['Order Date']).dt.to_period('M'))['Price for Customer'].sum().reset_index()\n",
    "    monthly_spending['Date'] = monthly_spending['Order Date'].dt.strftime('%Y-%m')  # Convert to YYYY-MM format\n",
    "    monthly_spending = monthly_spending.sort_values('Date')\n",
    "\n",
    "    trace = go.Scatter(\n",
    "        x=monthly_spending['Date'],\n",
    "        y=monthly_spending['Price for Customer'],\n",
    "        mode='lines+markers',\n",
    "        name='Spending',\n",
    "        line=dict(color='rgb(50, 171, 96)'),\n",
    "        marker=dict(symbol='circle', size=8),\n",
    "        text=monthly_spending['Price for Customer'].apply(lambda x: f\"₹{x:,.2f}\")\n",
    "    )\n",
    "\n",
    "    layout = go.Layout(\n",
    "        title='Monthly Spending',\n",
    "        xaxis=dict(title='Date'),\n",
    "        yaxis=dict(title='Total Spending'),\n",
    "        margin=dict(l=150, r=20, t=50, b=50),\n",
    "        showlegend=True\n",
    "    )\n",
    "\n",
    "    fig = go.Figure(data=[trace], layout=layout)\n",
    "    return fig\n",
    "\n",
    "def plot_savings_over_months(filtered_df, selected_year='Overall'):\n",
    "    if selected_year != 'Overall':\n",
    "        filtered_df = filtered_df[pd.to_datetime(filtered_df['Order Date']).dt.year == int(selected_year)]\n",
    "\n",
    "    monthly_savings = filtered_df.groupby(pd.to_datetime(filtered_df['Order Date']).dt.to_period('M'))['Savings'].sum().reset_index()\n",
    "    monthly_savings['Date'] = monthly_savings['Order Date'].dt.strftime('%Y-%m')  # Convert to YYYY-MM format\n",
    "    monthly_savings = monthly_savings.sort_values('Date')\n",
    "\n",
    "    trace = go.Scatter(\n",
    "        x=monthly_savings['Date'],\n",
    "        y=monthly_savings['Savings'],\n",
    "        mode='lines+markers',\n",
    "        name='Savings',\n",
    "        line=dict(color='rgb(219, 64, 82)'),\n",
    "        marker=dict(symbol='circle', size=8),\n",
    "        text=monthly_savings['Savings'].apply(lambda x: f\"₹{x:,.2f}\")\n",
    "    )\n",
    "\n",
    "    layout = go.Layout(\n",
    "        title='Monthly Savings',\n",
    "        xaxis=dict(title='Date'),\n",
    "        yaxis=dict(title='Total Savings'),\n",
    "        margin=dict(l=150, r=20, t=50, b=50),\n",
    "        showlegend=True\n",
    "    )\n",
    "\n",
    "    fig = go.Figure(data=[trace], layout=layout)\n",
    "    return fig\n",
    "\n",
    "selected_year = '2024'  \n",
    "\n",
    "spending_over_months_fig = plot_spending_over_months(df, selected_year=selected_year)\n",
    "savings_over_months_fig = plot_savings_over_months(df, selected_year=selected_year)\n",
    "\n",
    "spending_over_months_fig.show()\n",
    "savings_over_months_fig.show()\n"
   ]
  },
  {
   "cell_type": "code",
   "execution_count": 19,
   "id": "60146364-d8c5-4dd9-bc6d-9426482a74d5",
   "metadata": {},
   "outputs": [
    {
     "data": {
      "text/html": [
       "<div>\n",
       "<style scoped>\n",
       "    .dataframe tbody tr th:only-of-type {\n",
       "        vertical-align: middle;\n",
       "    }\n",
       "\n",
       "    .dataframe tbody tr th {\n",
       "        vertical-align: top;\n",
       "    }\n",
       "\n",
       "    .dataframe thead th {\n",
       "        text-align: right;\n",
       "    }\n",
       "</style>\n",
       "<table border=\"1\" class=\"dataframe\">\n",
       "  <thead>\n",
       "    <tr style=\"text-align: right;\">\n",
       "      <th></th>\n",
       "      <th>Order ID</th>\n",
       "      <th>Product Name</th>\n",
       "      <th>Product Category</th>\n",
       "      <th>MRP</th>\n",
       "      <th>Price for Customer</th>\n",
       "      <th>Savings</th>\n",
       "      <th>Payment Method</th>\n",
       "      <th>Monthly Payment</th>\n",
       "      <th>Duration (months)</th>\n",
       "      <th>Order Date</th>\n",
       "      <th>Order Month</th>\n",
       "    </tr>\n",
       "  </thead>\n",
       "  <tbody>\n",
       "    <tr>\n",
       "      <th>0</th>\n",
       "      <td>1</td>\n",
       "      <td>Dumbbells</td>\n",
       "      <td>Sports &amp; Outdoors</td>\n",
       "      <td>13355.43</td>\n",
       "      <td>7337.81</td>\n",
       "      <td>6017.62</td>\n",
       "      <td>Debit Card</td>\n",
       "      <td>NaN</td>\n",
       "      <td>NaN</td>\n",
       "      <td>2023-09-22</td>\n",
       "      <td>September</td>\n",
       "    </tr>\n",
       "    <tr>\n",
       "      <th>1</th>\n",
       "      <td>2</td>\n",
       "      <td>Car Cover</td>\n",
       "      <td>Automotive</td>\n",
       "      <td>15776.85</td>\n",
       "      <td>11118.26</td>\n",
       "      <td>4658.59</td>\n",
       "      <td>EMI</td>\n",
       "      <td>926.520000</td>\n",
       "      <td>3.0</td>\n",
       "      <td>2024-06-22</td>\n",
       "      <td>June</td>\n",
       "    </tr>\n",
       "    <tr>\n",
       "      <th>2</th>\n",
       "      <td>3</td>\n",
       "      <td>Blender</td>\n",
       "      <td>Home &amp; Kitchen</td>\n",
       "      <td>13996.98</td>\n",
       "      <td>9226.18</td>\n",
       "      <td>4770.80</td>\n",
       "      <td>Amazon Pay UPI</td>\n",
       "      <td>NaN</td>\n",
       "      <td>NaN</td>\n",
       "      <td>2024-01-04</td>\n",
       "      <td>January</td>\n",
       "    </tr>\n",
       "    <tr>\n",
       "      <th>3</th>\n",
       "      <td>4</td>\n",
       "      <td>Puzzle</td>\n",
       "      <td>Toys &amp; Games</td>\n",
       "      <td>4130.69</td>\n",
       "      <td>3259.66</td>\n",
       "      <td>871.03</td>\n",
       "      <td>Net Banking</td>\n",
       "      <td>NaN</td>\n",
       "      <td>NaN</td>\n",
       "      <td>2024-03-31</td>\n",
       "      <td>March</td>\n",
       "    </tr>\n",
       "    <tr>\n",
       "      <th>4</th>\n",
       "      <td>5</td>\n",
       "      <td>Tennis Racket</td>\n",
       "      <td>Sports &amp; Outdoors</td>\n",
       "      <td>9596.21</td>\n",
       "      <td>4893.04</td>\n",
       "      <td>4703.17</td>\n",
       "      <td>Net Banking</td>\n",
       "      <td>NaN</td>\n",
       "      <td>NaN</td>\n",
       "      <td>2023-06-26</td>\n",
       "      <td>June</td>\n",
       "    </tr>\n",
       "    <tr>\n",
       "      <th>5</th>\n",
       "      <td>6</td>\n",
       "      <td>Chicken Breast</td>\n",
       "      <td>Grocery</td>\n",
       "      <td>9174.61</td>\n",
       "      <td>6389.63</td>\n",
       "      <td>2784.98</td>\n",
       "      <td>Cash on Delivery</td>\n",
       "      <td>NaN</td>\n",
       "      <td>NaN</td>\n",
       "      <td>2023-09-08</td>\n",
       "      <td>September</td>\n",
       "    </tr>\n",
       "    <tr>\n",
       "      <th>6</th>\n",
       "      <td>7</td>\n",
       "      <td>Dumbbells</td>\n",
       "      <td>Sports &amp; Outdoors</td>\n",
       "      <td>5912.16</td>\n",
       "      <td>5872.95</td>\n",
       "      <td>39.21</td>\n",
       "      <td>Credit Card</td>\n",
       "      <td>NaN</td>\n",
       "      <td>NaN</td>\n",
       "      <td>2023-10-24</td>\n",
       "      <td>October</td>\n",
       "    </tr>\n",
       "    <tr>\n",
       "      <th>7</th>\n",
       "      <td>8</td>\n",
       "      <td>Tire Inflator</td>\n",
       "      <td>Automotive</td>\n",
       "      <td>9483.51</td>\n",
       "      <td>5680.20</td>\n",
       "      <td>3803.31</td>\n",
       "      <td>Google Pay</td>\n",
       "      <td>NaN</td>\n",
       "      <td>NaN</td>\n",
       "      <td>2023-11-17</td>\n",
       "      <td>November</td>\n",
       "    </tr>\n",
       "    <tr>\n",
       "      <th>8</th>\n",
       "      <td>9</td>\n",
       "      <td>Yoga Mat</td>\n",
       "      <td>Sports &amp; Outdoors</td>\n",
       "      <td>16438.55</td>\n",
       "      <td>12353.06</td>\n",
       "      <td>4085.49</td>\n",
       "      <td>EMI</td>\n",
       "      <td>1372.560000</td>\n",
       "      <td>11.0</td>\n",
       "      <td>2023-08-22</td>\n",
       "      <td>August</td>\n",
       "    </tr>\n",
       "    <tr>\n",
       "      <th>9</th>\n",
       "      <td>10</td>\n",
       "      <td>Bread</td>\n",
       "      <td>Grocery</td>\n",
       "      <td>3340.18</td>\n",
       "      <td>2296.30</td>\n",
       "      <td>1043.88</td>\n",
       "      <td>Debit Card</td>\n",
       "      <td>NaN</td>\n",
       "      <td>NaN</td>\n",
       "      <td>2024-01-10</td>\n",
       "      <td>January</td>\n",
       "    </tr>\n",
       "    <tr>\n",
       "      <th>10</th>\n",
       "      <td>11</td>\n",
       "      <td>Smartwatch</td>\n",
       "      <td>Electronics</td>\n",
       "      <td>2968.30</td>\n",
       "      <td>2954.39</td>\n",
       "      <td>13.91</td>\n",
       "      <td>Debit Card</td>\n",
       "      <td>NaN</td>\n",
       "      <td>NaN</td>\n",
       "      <td>2024-04-29</td>\n",
       "      <td>April</td>\n",
       "    </tr>\n",
       "    <tr>\n",
       "      <th>11</th>\n",
       "      <td>12</td>\n",
       "      <td>Hair Dryer</td>\n",
       "      <td>Beauty &amp; Personal Care</td>\n",
       "      <td>18688.87</td>\n",
       "      <td>13815.67</td>\n",
       "      <td>4873.20</td>\n",
       "      <td>Google Pay</td>\n",
       "      <td>NaN</td>\n",
       "      <td>NaN</td>\n",
       "      <td>2024-06-08</td>\n",
       "      <td>June</td>\n",
       "    </tr>\n",
       "    <tr>\n",
       "      <th>12</th>\n",
       "      <td>13</td>\n",
       "      <td>Car Cover</td>\n",
       "      <td>Automotive</td>\n",
       "      <td>6055.92</td>\n",
       "      <td>5496.35</td>\n",
       "      <td>559.57</td>\n",
       "      <td>PhonePe</td>\n",
       "      <td>NaN</td>\n",
       "      <td>NaN</td>\n",
       "      <td>2024-01-25</td>\n",
       "      <td>January</td>\n",
       "    </tr>\n",
       "    <tr>\n",
       "      <th>13</th>\n",
       "      <td>14</td>\n",
       "      <td>Engine Oil</td>\n",
       "      <td>Automotive</td>\n",
       "      <td>13563.37</td>\n",
       "      <td>8279.90</td>\n",
       "      <td>5283.47</td>\n",
       "      <td>Google Pay</td>\n",
       "      <td>NaN</td>\n",
       "      <td>NaN</td>\n",
       "      <td>2024-02-13</td>\n",
       "      <td>February</td>\n",
       "    </tr>\n",
       "    <tr>\n",
       "      <th>14</th>\n",
       "      <td>15</td>\n",
       "      <td>Jeans</td>\n",
       "      <td>Fashion</td>\n",
       "      <td>10046.27</td>\n",
       "      <td>5472.50</td>\n",
       "      <td>4573.77</td>\n",
       "      <td>Credit Card</td>\n",
       "      <td>NaN</td>\n",
       "      <td>NaN</td>\n",
       "      <td>2023-08-24</td>\n",
       "      <td>August</td>\n",
       "    </tr>\n",
       "    <tr>\n",
       "      <th>15</th>\n",
       "      <td>16</td>\n",
       "      <td>Smartwatch</td>\n",
       "      <td>Electronics</td>\n",
       "      <td>2366.92</td>\n",
       "      <td>2006.99</td>\n",
       "      <td>359.93</td>\n",
       "      <td>Credit Card</td>\n",
       "      <td>NaN</td>\n",
       "      <td>NaN</td>\n",
       "      <td>2023-07-15</td>\n",
       "      <td>July</td>\n",
       "    </tr>\n",
       "    <tr>\n",
       "      <th>16</th>\n",
       "      <td>17</td>\n",
       "      <td>Tennis Racket</td>\n",
       "      <td>Sports &amp; Outdoors</td>\n",
       "      <td>18009.92</td>\n",
       "      <td>15331.88</td>\n",
       "      <td>2678.04</td>\n",
       "      <td>Amazon Pay Later</td>\n",
       "      <td>1277.656667</td>\n",
       "      <td>12.0</td>\n",
       "      <td>2023-11-20</td>\n",
       "      <td>November</td>\n",
       "    </tr>\n",
       "    <tr>\n",
       "      <th>17</th>\n",
       "      <td>18</td>\n",
       "      <td>Bicycle</td>\n",
       "      <td>Sports &amp; Outdoors</td>\n",
       "      <td>10502.25</td>\n",
       "      <td>8033.61</td>\n",
       "      <td>2468.64</td>\n",
       "      <td>Cash on Delivery</td>\n",
       "      <td>NaN</td>\n",
       "      <td>NaN</td>\n",
       "      <td>2024-01-22</td>\n",
       "      <td>January</td>\n",
       "    </tr>\n",
       "    <tr>\n",
       "      <th>18</th>\n",
       "      <td>19</td>\n",
       "      <td>Smartphone</td>\n",
       "      <td>Electronics</td>\n",
       "      <td>15707.56</td>\n",
       "      <td>13125.18</td>\n",
       "      <td>2582.38</td>\n",
       "      <td>PhonePe</td>\n",
       "      <td>NaN</td>\n",
       "      <td>NaN</td>\n",
       "      <td>2024-02-28</td>\n",
       "      <td>February</td>\n",
       "    </tr>\n",
       "    <tr>\n",
       "      <th>19</th>\n",
       "      <td>20</td>\n",
       "      <td>Board Game</td>\n",
       "      <td>Toys &amp; Games</td>\n",
       "      <td>18310.99</td>\n",
       "      <td>14285.07</td>\n",
       "      <td>4025.92</td>\n",
       "      <td>PhonePe</td>\n",
       "      <td>NaN</td>\n",
       "      <td>NaN</td>\n",
       "      <td>2023-09-25</td>\n",
       "      <td>September</td>\n",
       "    </tr>\n",
       "    <tr>\n",
       "      <th>20</th>\n",
       "      <td>21</td>\n",
       "      <td>Blender</td>\n",
       "      <td>Home &amp; Kitchen</td>\n",
       "      <td>4109.63</td>\n",
       "      <td>2304.48</td>\n",
       "      <td>1805.15</td>\n",
       "      <td>Amazon Pay Later</td>\n",
       "      <td>2304.480000</td>\n",
       "      <td>1.0</td>\n",
       "      <td>2023-09-17</td>\n",
       "      <td>September</td>\n",
       "    </tr>\n",
       "    <tr>\n",
       "      <th>21</th>\n",
       "      <td>22</td>\n",
       "      <td>Moisturizer</td>\n",
       "      <td>Beauty &amp; Personal Care</td>\n",
       "      <td>19119.14</td>\n",
       "      <td>13987.96</td>\n",
       "      <td>5131.18</td>\n",
       "      <td>Amazon Pay Later</td>\n",
       "      <td>1165.663333</td>\n",
       "      <td>12.0</td>\n",
       "      <td>2023-07-14</td>\n",
       "      <td>July</td>\n",
       "    </tr>\n",
       "    <tr>\n",
       "      <th>22</th>\n",
       "      <td>23</td>\n",
       "      <td>Hair Dryer</td>\n",
       "      <td>Beauty &amp; Personal Care</td>\n",
       "      <td>12323.48</td>\n",
       "      <td>6554.90</td>\n",
       "      <td>5768.58</td>\n",
       "      <td>Net Banking</td>\n",
       "      <td>NaN</td>\n",
       "      <td>NaN</td>\n",
       "      <td>2024-03-18</td>\n",
       "      <td>March</td>\n",
       "    </tr>\n",
       "    <tr>\n",
       "      <th>23</th>\n",
       "      <td>24</td>\n",
       "      <td>Organic Milk</td>\n",
       "      <td>Grocery</td>\n",
       "      <td>15663.52</td>\n",
       "      <td>9612.10</td>\n",
       "      <td>6051.42</td>\n",
       "      <td>Amazon Pay Later</td>\n",
       "      <td>801.008333</td>\n",
       "      <td>12.0</td>\n",
       "      <td>2024-06-05</td>\n",
       "      <td>June</td>\n",
       "    </tr>\n",
       "    <tr>\n",
       "      <th>24</th>\n",
       "      <td>25</td>\n",
       "      <td>Running Shoes</td>\n",
       "      <td>Sports &amp; Outdoors</td>\n",
       "      <td>15489.88</td>\n",
       "      <td>8297.51</td>\n",
       "      <td>7192.37</td>\n",
       "      <td>Debit Card</td>\n",
       "      <td>NaN</td>\n",
       "      <td>NaN</td>\n",
       "      <td>2023-10-01</td>\n",
       "      <td>October</td>\n",
       "    </tr>\n",
       "    <tr>\n",
       "      <th>25</th>\n",
       "      <td>26</td>\n",
       "      <td>Vitamins</td>\n",
       "      <td>Health &amp; Household</td>\n",
       "      <td>9975.27</td>\n",
       "      <td>6398.23</td>\n",
       "      <td>3577.04</td>\n",
       "      <td>Amazon Pay Later</td>\n",
       "      <td>533.185833</td>\n",
       "      <td>12.0</td>\n",
       "      <td>2023-08-20</td>\n",
       "      <td>August</td>\n",
       "    </tr>\n",
       "    <tr>\n",
       "      <th>26</th>\n",
       "      <td>27</td>\n",
       "      <td>Microwave Oven</td>\n",
       "      <td>Home &amp; Kitchen</td>\n",
       "      <td>9673.16</td>\n",
       "      <td>7218.55</td>\n",
       "      <td>2454.61</td>\n",
       "      <td>Debit Card</td>\n",
       "      <td>NaN</td>\n",
       "      <td>NaN</td>\n",
       "      <td>2024-04-13</td>\n",
       "      <td>April</td>\n",
       "    </tr>\n",
       "    <tr>\n",
       "      <th>27</th>\n",
       "      <td>28</td>\n",
       "      <td>Smartwatch</td>\n",
       "      <td>Electronics</td>\n",
       "      <td>13538.01</td>\n",
       "      <td>10730.10</td>\n",
       "      <td>2807.91</td>\n",
       "      <td>Google Pay</td>\n",
       "      <td>NaN</td>\n",
       "      <td>NaN</td>\n",
       "      <td>2024-01-14</td>\n",
       "      <td>January</td>\n",
       "    </tr>\n",
       "    <tr>\n",
       "      <th>28</th>\n",
       "      <td>29</td>\n",
       "      <td>Running Shoes</td>\n",
       "      <td>Sports &amp; Outdoors</td>\n",
       "      <td>15303.95</td>\n",
       "      <td>12963.82</td>\n",
       "      <td>2340.13</td>\n",
       "      <td>Amazon Pay Later</td>\n",
       "      <td>1080.318333</td>\n",
       "      <td>12.0</td>\n",
       "      <td>2024-05-26</td>\n",
       "      <td>May</td>\n",
       "    </tr>\n",
       "    <tr>\n",
       "      <th>29</th>\n",
       "      <td>30</td>\n",
       "      <td>Smartphone</td>\n",
       "      <td>Electronics</td>\n",
       "      <td>12075.34</td>\n",
       "      <td>9503.10</td>\n",
       "      <td>2572.24</td>\n",
       "      <td>Credit Card</td>\n",
       "      <td>NaN</td>\n",
       "      <td>NaN</td>\n",
       "      <td>2024-01-28</td>\n",
       "      <td>January</td>\n",
       "    </tr>\n",
       "    <tr>\n",
       "      <th>30</th>\n",
       "      <td>31</td>\n",
       "      <td>Jeans</td>\n",
       "      <td>Fashion</td>\n",
       "      <td>10235.76</td>\n",
       "      <td>10195.25</td>\n",
       "      <td>40.51</td>\n",
       "      <td>Amazon Pay Later</td>\n",
       "      <td>849.604167</td>\n",
       "      <td>12.0</td>\n",
       "      <td>2023-07-23</td>\n",
       "      <td>July</td>\n",
       "    </tr>\n",
       "    <tr>\n",
       "      <th>31</th>\n",
       "      <td>32</td>\n",
       "      <td>Action Figure</td>\n",
       "      <td>Toys &amp; Games</td>\n",
       "      <td>10214.07</td>\n",
       "      <td>8537.93</td>\n",
       "      <td>1676.14</td>\n",
       "      <td>EMI</td>\n",
       "      <td>853.790000</td>\n",
       "      <td>3.0</td>\n",
       "      <td>2024-04-21</td>\n",
       "      <td>April</td>\n",
       "    </tr>\n",
       "    <tr>\n",
       "      <th>32</th>\n",
       "      <td>33</td>\n",
       "      <td>Coffee Maker</td>\n",
       "      <td>Home &amp; Kitchen</td>\n",
       "      <td>12808.77</td>\n",
       "      <td>10980.66</td>\n",
       "      <td>1828.11</td>\n",
       "      <td>Net Banking</td>\n",
       "      <td>NaN</td>\n",
       "      <td>NaN</td>\n",
       "      <td>2024-03-28</td>\n",
       "      <td>March</td>\n",
       "    </tr>\n",
       "    <tr>\n",
       "      <th>33</th>\n",
       "      <td>34</td>\n",
       "      <td>Car Battery</td>\n",
       "      <td>Automotive</td>\n",
       "      <td>9832.14</td>\n",
       "      <td>5678.15</td>\n",
       "      <td>4153.99</td>\n",
       "      <td>Amazon Pay Later</td>\n",
       "      <td>473.179167</td>\n",
       "      <td>12.0</td>\n",
       "      <td>2023-11-10</td>\n",
       "      <td>November</td>\n",
       "    </tr>\n",
       "    <tr>\n",
       "      <th>34</th>\n",
       "      <td>35</td>\n",
       "      <td>Blender</td>\n",
       "      <td>Home &amp; Kitchen</td>\n",
       "      <td>19381.76</td>\n",
       "      <td>15458.85</td>\n",
       "      <td>3922.91</td>\n",
       "      <td>EMI</td>\n",
       "      <td>1717.650000</td>\n",
       "      <td>9.0</td>\n",
       "      <td>2023-09-20</td>\n",
       "      <td>September</td>\n",
       "    </tr>\n",
       "    <tr>\n",
       "      <th>35</th>\n",
       "      <td>36</td>\n",
       "      <td>Lego Set</td>\n",
       "      <td>Toys &amp; Games</td>\n",
       "      <td>4439.27</td>\n",
       "      <td>2900.67</td>\n",
       "      <td>1538.60</td>\n",
       "      <td>Amazon Pay UPI</td>\n",
       "      <td>NaN</td>\n",
       "      <td>NaN</td>\n",
       "      <td>2024-02-06</td>\n",
       "      <td>February</td>\n",
       "    </tr>\n",
       "    <tr>\n",
       "      <th>36</th>\n",
       "      <td>37</td>\n",
       "      <td>Disinfectant Wipes</td>\n",
       "      <td>Health &amp; Household</td>\n",
       "      <td>11859.31</td>\n",
       "      <td>8565.55</td>\n",
       "      <td>3293.76</td>\n",
       "      <td>PhonePe</td>\n",
       "      <td>NaN</td>\n",
       "      <td>NaN</td>\n",
       "      <td>2024-06-04</td>\n",
       "      <td>June</td>\n",
       "    </tr>\n",
       "    <tr>\n",
       "      <th>37</th>\n",
       "      <td>38</td>\n",
       "      <td>Action Figure</td>\n",
       "      <td>Toys &amp; Games</td>\n",
       "      <td>17688.65</td>\n",
       "      <td>15867.82</td>\n",
       "      <td>1820.83</td>\n",
       "      <td>Credit Card</td>\n",
       "      <td>NaN</td>\n",
       "      <td>NaN</td>\n",
       "      <td>2023-07-16</td>\n",
       "      <td>July</td>\n",
       "    </tr>\n",
       "    <tr>\n",
       "      <th>38</th>\n",
       "      <td>39</td>\n",
       "      <td>Car Cover</td>\n",
       "      <td>Automotive</td>\n",
       "      <td>16458.58</td>\n",
       "      <td>11610.34</td>\n",
       "      <td>4848.24</td>\n",
       "      <td>Debit Card</td>\n",
       "      <td>NaN</td>\n",
       "      <td>NaN</td>\n",
       "      <td>2023-11-27</td>\n",
       "      <td>November</td>\n",
       "    </tr>\n",
       "    <tr>\n",
       "      <th>39</th>\n",
       "      <td>40</td>\n",
       "      <td>Shampoo</td>\n",
       "      <td>Beauty &amp; Personal Care</td>\n",
       "      <td>12797.75</td>\n",
       "      <td>9787.45</td>\n",
       "      <td>3010.30</td>\n",
       "      <td>Google Pay</td>\n",
       "      <td>NaN</td>\n",
       "      <td>NaN</td>\n",
       "      <td>2023-06-30</td>\n",
       "      <td>June</td>\n",
       "    </tr>\n",
       "    <tr>\n",
       "      <th>40</th>\n",
       "      <td>41</td>\n",
       "      <td>Car Cover</td>\n",
       "      <td>Automotive</td>\n",
       "      <td>7804.40</td>\n",
       "      <td>4528.59</td>\n",
       "      <td>3275.81</td>\n",
       "      <td>Google Pay</td>\n",
       "      <td>NaN</td>\n",
       "      <td>NaN</td>\n",
       "      <td>2023-12-22</td>\n",
       "      <td>December</td>\n",
       "    </tr>\n",
       "    <tr>\n",
       "      <th>41</th>\n",
       "      <td>42</td>\n",
       "      <td>Bicycle</td>\n",
       "      <td>Sports &amp; Outdoors</td>\n",
       "      <td>17516.32</td>\n",
       "      <td>11822.29</td>\n",
       "      <td>5694.03</td>\n",
       "      <td>Amazon Pay Later</td>\n",
       "      <td>985.190833</td>\n",
       "      <td>12.0</td>\n",
       "      <td>2024-02-07</td>\n",
       "      <td>February</td>\n",
       "    </tr>\n",
       "    <tr>\n",
       "      <th>42</th>\n",
       "      <td>43</td>\n",
       "      <td>Sneakers</td>\n",
       "      <td>Fashion</td>\n",
       "      <td>789.09</td>\n",
       "      <td>453.70</td>\n",
       "      <td>335.39</td>\n",
       "      <td>Amazon Pay UPI</td>\n",
       "      <td>NaN</td>\n",
       "      <td>NaN</td>\n",
       "      <td>2024-06-09</td>\n",
       "      <td>June</td>\n",
       "    </tr>\n",
       "    <tr>\n",
       "      <th>43</th>\n",
       "      <td>44</td>\n",
       "      <td>Chicken Breast</td>\n",
       "      <td>Grocery</td>\n",
       "      <td>12172.18</td>\n",
       "      <td>11306.11</td>\n",
       "      <td>866.07</td>\n",
       "      <td>Net Banking</td>\n",
       "      <td>NaN</td>\n",
       "      <td>NaN</td>\n",
       "      <td>2024-04-14</td>\n",
       "      <td>April</td>\n",
       "    </tr>\n",
       "    <tr>\n",
       "      <th>44</th>\n",
       "      <td>45</td>\n",
       "      <td>Board Game</td>\n",
       "      <td>Toys &amp; Games</td>\n",
       "      <td>10640.68</td>\n",
       "      <td>6140.09</td>\n",
       "      <td>4500.59</td>\n",
       "      <td>Cash on Delivery</td>\n",
       "      <td>NaN</td>\n",
       "      <td>NaN</td>\n",
       "      <td>2024-02-22</td>\n",
       "      <td>February</td>\n",
       "    </tr>\n",
       "    <tr>\n",
       "      <th>45</th>\n",
       "      <td>46</td>\n",
       "      <td>Chicken Breast</td>\n",
       "      <td>Grocery</td>\n",
       "      <td>16554.55</td>\n",
       "      <td>9831.43</td>\n",
       "      <td>6723.12</td>\n",
       "      <td>Google Pay</td>\n",
       "      <td>NaN</td>\n",
       "      <td>NaN</td>\n",
       "      <td>2024-05-13</td>\n",
       "      <td>May</td>\n",
       "    </tr>\n",
       "    <tr>\n",
       "      <th>46</th>\n",
       "      <td>47</td>\n",
       "      <td>Lipstick</td>\n",
       "      <td>Beauty &amp; Personal Care</td>\n",
       "      <td>4755.50</td>\n",
       "      <td>4643.01</td>\n",
       "      <td>112.49</td>\n",
       "      <td>Debit Card</td>\n",
       "      <td>NaN</td>\n",
       "      <td>NaN</td>\n",
       "      <td>2023-09-19</td>\n",
       "      <td>September</td>\n",
       "    </tr>\n",
       "    <tr>\n",
       "      <th>47</th>\n",
       "      <td>48</td>\n",
       "      <td>Organic Milk</td>\n",
       "      <td>Grocery</td>\n",
       "      <td>16338.33</td>\n",
       "      <td>9381.47</td>\n",
       "      <td>6956.86</td>\n",
       "      <td>Amazon Pay UPI</td>\n",
       "      <td>NaN</td>\n",
       "      <td>NaN</td>\n",
       "      <td>2024-02-22</td>\n",
       "      <td>February</td>\n",
       "    </tr>\n",
       "    <tr>\n",
       "      <th>48</th>\n",
       "      <td>49</td>\n",
       "      <td>Car Cover</td>\n",
       "      <td>Automotive</td>\n",
       "      <td>6178.94</td>\n",
       "      <td>3448.10</td>\n",
       "      <td>2730.84</td>\n",
       "      <td>EMI</td>\n",
       "      <td>574.680000</td>\n",
       "      <td>5.0</td>\n",
       "      <td>2023-12-04</td>\n",
       "      <td>December</td>\n",
       "    </tr>\n",
       "    <tr>\n",
       "      <th>49</th>\n",
       "      <td>50</td>\n",
       "      <td>Bicycle</td>\n",
       "      <td>Sports &amp; Outdoors</td>\n",
       "      <td>14939.17</td>\n",
       "      <td>13994.31</td>\n",
       "      <td>944.86</td>\n",
       "      <td>Google Pay</td>\n",
       "      <td>NaN</td>\n",
       "      <td>NaN</td>\n",
       "      <td>2024-03-21</td>\n",
       "      <td>March</td>\n",
       "    </tr>\n",
       "  </tbody>\n",
       "</table>\n",
       "</div>"
      ],
      "text/plain": [
       "    Order ID        Product Name        Product Category       MRP  \\\n",
       "0          1           Dumbbells       Sports & Outdoors  13355.43   \n",
       "1          2           Car Cover              Automotive  15776.85   \n",
       "2          3             Blender          Home & Kitchen  13996.98   \n",
       "3          4              Puzzle            Toys & Games   4130.69   \n",
       "4          5       Tennis Racket       Sports & Outdoors   9596.21   \n",
       "5          6      Chicken Breast                 Grocery   9174.61   \n",
       "6          7           Dumbbells       Sports & Outdoors   5912.16   \n",
       "7          8       Tire Inflator              Automotive   9483.51   \n",
       "8          9            Yoga Mat       Sports & Outdoors  16438.55   \n",
       "9         10               Bread                 Grocery   3340.18   \n",
       "10        11          Smartwatch             Electronics   2968.30   \n",
       "11        12          Hair Dryer  Beauty & Personal Care  18688.87   \n",
       "12        13           Car Cover              Automotive   6055.92   \n",
       "13        14          Engine Oil              Automotive  13563.37   \n",
       "14        15               Jeans                 Fashion  10046.27   \n",
       "15        16          Smartwatch             Electronics   2366.92   \n",
       "16        17       Tennis Racket       Sports & Outdoors  18009.92   \n",
       "17        18             Bicycle       Sports & Outdoors  10502.25   \n",
       "18        19          Smartphone             Electronics  15707.56   \n",
       "19        20          Board Game            Toys & Games  18310.99   \n",
       "20        21             Blender          Home & Kitchen   4109.63   \n",
       "21        22         Moisturizer  Beauty & Personal Care  19119.14   \n",
       "22        23          Hair Dryer  Beauty & Personal Care  12323.48   \n",
       "23        24        Organic Milk                 Grocery  15663.52   \n",
       "24        25       Running Shoes       Sports & Outdoors  15489.88   \n",
       "25        26            Vitamins      Health & Household   9975.27   \n",
       "26        27      Microwave Oven          Home & Kitchen   9673.16   \n",
       "27        28          Smartwatch             Electronics  13538.01   \n",
       "28        29       Running Shoes       Sports & Outdoors  15303.95   \n",
       "29        30          Smartphone             Electronics  12075.34   \n",
       "30        31               Jeans                 Fashion  10235.76   \n",
       "31        32       Action Figure            Toys & Games  10214.07   \n",
       "32        33        Coffee Maker          Home & Kitchen  12808.77   \n",
       "33        34         Car Battery              Automotive   9832.14   \n",
       "34        35             Blender          Home & Kitchen  19381.76   \n",
       "35        36            Lego Set            Toys & Games   4439.27   \n",
       "36        37  Disinfectant Wipes      Health & Household  11859.31   \n",
       "37        38       Action Figure            Toys & Games  17688.65   \n",
       "38        39           Car Cover              Automotive  16458.58   \n",
       "39        40             Shampoo  Beauty & Personal Care  12797.75   \n",
       "40        41           Car Cover              Automotive   7804.40   \n",
       "41        42             Bicycle       Sports & Outdoors  17516.32   \n",
       "42        43            Sneakers                 Fashion    789.09   \n",
       "43        44      Chicken Breast                 Grocery  12172.18   \n",
       "44        45          Board Game            Toys & Games  10640.68   \n",
       "45        46      Chicken Breast                 Grocery  16554.55   \n",
       "46        47            Lipstick  Beauty & Personal Care   4755.50   \n",
       "47        48        Organic Milk                 Grocery  16338.33   \n",
       "48        49           Car Cover              Automotive   6178.94   \n",
       "49        50             Bicycle       Sports & Outdoors  14939.17   \n",
       "\n",
       "    Price for Customer  Savings    Payment Method  Monthly Payment  \\\n",
       "0              7337.81  6017.62        Debit Card              NaN   \n",
       "1             11118.26  4658.59               EMI       926.520000   \n",
       "2              9226.18  4770.80    Amazon Pay UPI              NaN   \n",
       "3              3259.66   871.03       Net Banking              NaN   \n",
       "4              4893.04  4703.17       Net Banking              NaN   \n",
       "5              6389.63  2784.98  Cash on Delivery              NaN   \n",
       "6              5872.95    39.21       Credit Card              NaN   \n",
       "7              5680.20  3803.31        Google Pay              NaN   \n",
       "8             12353.06  4085.49               EMI      1372.560000   \n",
       "9              2296.30  1043.88        Debit Card              NaN   \n",
       "10             2954.39    13.91        Debit Card              NaN   \n",
       "11            13815.67  4873.20        Google Pay              NaN   \n",
       "12             5496.35   559.57           PhonePe              NaN   \n",
       "13             8279.90  5283.47        Google Pay              NaN   \n",
       "14             5472.50  4573.77       Credit Card              NaN   \n",
       "15             2006.99   359.93       Credit Card              NaN   \n",
       "16            15331.88  2678.04  Amazon Pay Later      1277.656667   \n",
       "17             8033.61  2468.64  Cash on Delivery              NaN   \n",
       "18            13125.18  2582.38           PhonePe              NaN   \n",
       "19            14285.07  4025.92           PhonePe              NaN   \n",
       "20             2304.48  1805.15  Amazon Pay Later      2304.480000   \n",
       "21            13987.96  5131.18  Amazon Pay Later      1165.663333   \n",
       "22             6554.90  5768.58       Net Banking              NaN   \n",
       "23             9612.10  6051.42  Amazon Pay Later       801.008333   \n",
       "24             8297.51  7192.37        Debit Card              NaN   \n",
       "25             6398.23  3577.04  Amazon Pay Later       533.185833   \n",
       "26             7218.55  2454.61        Debit Card              NaN   \n",
       "27            10730.10  2807.91        Google Pay              NaN   \n",
       "28            12963.82  2340.13  Amazon Pay Later      1080.318333   \n",
       "29             9503.10  2572.24       Credit Card              NaN   \n",
       "30            10195.25    40.51  Amazon Pay Later       849.604167   \n",
       "31             8537.93  1676.14               EMI       853.790000   \n",
       "32            10980.66  1828.11       Net Banking              NaN   \n",
       "33             5678.15  4153.99  Amazon Pay Later       473.179167   \n",
       "34            15458.85  3922.91               EMI      1717.650000   \n",
       "35             2900.67  1538.60    Amazon Pay UPI              NaN   \n",
       "36             8565.55  3293.76           PhonePe              NaN   \n",
       "37            15867.82  1820.83       Credit Card              NaN   \n",
       "38            11610.34  4848.24        Debit Card              NaN   \n",
       "39             9787.45  3010.30        Google Pay              NaN   \n",
       "40             4528.59  3275.81        Google Pay              NaN   \n",
       "41            11822.29  5694.03  Amazon Pay Later       985.190833   \n",
       "42              453.70   335.39    Amazon Pay UPI              NaN   \n",
       "43            11306.11   866.07       Net Banking              NaN   \n",
       "44             6140.09  4500.59  Cash on Delivery              NaN   \n",
       "45             9831.43  6723.12        Google Pay              NaN   \n",
       "46             4643.01   112.49        Debit Card              NaN   \n",
       "47             9381.47  6956.86    Amazon Pay UPI              NaN   \n",
       "48             3448.10  2730.84               EMI       574.680000   \n",
       "49            13994.31   944.86        Google Pay              NaN   \n",
       "\n",
       "    Duration (months)  Order Date Order Month  \n",
       "0                 NaN  2023-09-22   September  \n",
       "1                 3.0  2024-06-22        June  \n",
       "2                 NaN  2024-01-04     January  \n",
       "3                 NaN  2024-03-31       March  \n",
       "4                 NaN  2023-06-26        June  \n",
       "5                 NaN  2023-09-08   September  \n",
       "6                 NaN  2023-10-24     October  \n",
       "7                 NaN  2023-11-17    November  \n",
       "8                11.0  2023-08-22      August  \n",
       "9                 NaN  2024-01-10     January  \n",
       "10                NaN  2024-04-29       April  \n",
       "11                NaN  2024-06-08        June  \n",
       "12                NaN  2024-01-25     January  \n",
       "13                NaN  2024-02-13    February  \n",
       "14                NaN  2023-08-24      August  \n",
       "15                NaN  2023-07-15        July  \n",
       "16               12.0  2023-11-20    November  \n",
       "17                NaN  2024-01-22     January  \n",
       "18                NaN  2024-02-28    February  \n",
       "19                NaN  2023-09-25   September  \n",
       "20                1.0  2023-09-17   September  \n",
       "21               12.0  2023-07-14        July  \n",
       "22                NaN  2024-03-18       March  \n",
       "23               12.0  2024-06-05        June  \n",
       "24                NaN  2023-10-01     October  \n",
       "25               12.0  2023-08-20      August  \n",
       "26                NaN  2024-04-13       April  \n",
       "27                NaN  2024-01-14     January  \n",
       "28               12.0  2024-05-26         May  \n",
       "29                NaN  2024-01-28     January  \n",
       "30               12.0  2023-07-23        July  \n",
       "31                3.0  2024-04-21       April  \n",
       "32                NaN  2024-03-28       March  \n",
       "33               12.0  2023-11-10    November  \n",
       "34                9.0  2023-09-20   September  \n",
       "35                NaN  2024-02-06    February  \n",
       "36                NaN  2024-06-04        June  \n",
       "37                NaN  2023-07-16        July  \n",
       "38                NaN  2023-11-27    November  \n",
       "39                NaN  2023-06-30        June  \n",
       "40                NaN  2023-12-22    December  \n",
       "41               12.0  2024-02-07    February  \n",
       "42                NaN  2024-06-09        June  \n",
       "43                NaN  2024-04-14       April  \n",
       "44                NaN  2024-02-22    February  \n",
       "45                NaN  2024-05-13         May  \n",
       "46                NaN  2023-09-19   September  \n",
       "47                NaN  2024-02-22    February  \n",
       "48                5.0  2023-12-04    December  \n",
       "49                NaN  2024-03-21       March  "
      ]
     },
     "execution_count": 19,
     "metadata": {},
     "output_type": "execute_result"
    }
   ],
   "source": [
    "df"
   ]
  },
  {
   "cell_type": "code",
   "execution_count": 20,
   "id": "e4083b4f-09e6-474a-afc8-6845a12bb89c",
   "metadata": {},
   "outputs": [
    {
     "data": {
      "text/html": [
       "<div>\n",
       "<style scoped>\n",
       "    .dataframe tbody tr th:only-of-type {\n",
       "        vertical-align: middle;\n",
       "    }\n",
       "\n",
       "    .dataframe tbody tr th {\n",
       "        vertical-align: top;\n",
       "    }\n",
       "\n",
       "    .dataframe thead th {\n",
       "        text-align: right;\n",
       "    }\n",
       "</style>\n",
       "<table border=\"1\" class=\"dataframe\">\n",
       "  <thead>\n",
       "    <tr style=\"text-align: right;\">\n",
       "      <th></th>\n",
       "      <th>Order ID</th>\n",
       "      <th>Product Name</th>\n",
       "      <th>Product Category</th>\n",
       "      <th>MRP</th>\n",
       "      <th>Price for Customer</th>\n",
       "      <th>Savings</th>\n",
       "      <th>Payment Method</th>\n",
       "      <th>Monthly Payment</th>\n",
       "      <th>Duration (months)</th>\n",
       "      <th>Order Date</th>\n",
       "      <th>Order Month</th>\n",
       "      <th>Months Passed</th>\n",
       "      <th>Amount Paid</th>\n",
       "      <th>Amount Left</th>\n",
       "    </tr>\n",
       "  </thead>\n",
       "  <tbody>\n",
       "    <tr>\n",
       "      <th>16</th>\n",
       "      <td>17</td>\n",
       "      <td>Tennis Racket</td>\n",
       "      <td>Sports &amp; Outdoors</td>\n",
       "      <td>18009.92</td>\n",
       "      <td>15331.88</td>\n",
       "      <td>2678.04</td>\n",
       "      <td>Amazon Pay Later</td>\n",
       "      <td>1277.656667</td>\n",
       "      <td>12</td>\n",
       "      <td>2023-11-20</td>\n",
       "      <td>November</td>\n",
       "      <td>7</td>\n",
       "      <td>8943.596667</td>\n",
       "      <td>6388.283333</td>\n",
       "    </tr>\n",
       "    <tr>\n",
       "      <th>20</th>\n",
       "      <td>21</td>\n",
       "      <td>Blender</td>\n",
       "      <td>Home &amp; Kitchen</td>\n",
       "      <td>4109.63</td>\n",
       "      <td>2304.48</td>\n",
       "      <td>1805.15</td>\n",
       "      <td>Amazon Pay Later</td>\n",
       "      <td>2304.480000</td>\n",
       "      <td>1</td>\n",
       "      <td>2023-09-17</td>\n",
       "      <td>September</td>\n",
       "      <td>9</td>\n",
       "      <td>2304.480000</td>\n",
       "      <td>0.000000</td>\n",
       "    </tr>\n",
       "    <tr>\n",
       "      <th>21</th>\n",
       "      <td>22</td>\n",
       "      <td>Moisturizer</td>\n",
       "      <td>Beauty &amp; Personal Care</td>\n",
       "      <td>19119.14</td>\n",
       "      <td>13987.96</td>\n",
       "      <td>5131.18</td>\n",
       "      <td>Amazon Pay Later</td>\n",
       "      <td>1165.663333</td>\n",
       "      <td>12</td>\n",
       "      <td>2023-07-14</td>\n",
       "      <td>July</td>\n",
       "      <td>11</td>\n",
       "      <td>12822.296667</td>\n",
       "      <td>1165.663333</td>\n",
       "    </tr>\n",
       "    <tr>\n",
       "      <th>23</th>\n",
       "      <td>24</td>\n",
       "      <td>Organic Milk</td>\n",
       "      <td>Grocery</td>\n",
       "      <td>15663.52</td>\n",
       "      <td>9612.10</td>\n",
       "      <td>6051.42</td>\n",
       "      <td>Amazon Pay Later</td>\n",
       "      <td>801.008333</td>\n",
       "      <td>12</td>\n",
       "      <td>2024-06-05</td>\n",
       "      <td>June</td>\n",
       "      <td>0</td>\n",
       "      <td>0.000000</td>\n",
       "      <td>9612.100000</td>\n",
       "    </tr>\n",
       "    <tr>\n",
       "      <th>25</th>\n",
       "      <td>26</td>\n",
       "      <td>Vitamins</td>\n",
       "      <td>Health &amp; Household</td>\n",
       "      <td>9975.27</td>\n",
       "      <td>6398.23</td>\n",
       "      <td>3577.04</td>\n",
       "      <td>Amazon Pay Later</td>\n",
       "      <td>533.185833</td>\n",
       "      <td>12</td>\n",
       "      <td>2023-08-20</td>\n",
       "      <td>August</td>\n",
       "      <td>10</td>\n",
       "      <td>5331.858333</td>\n",
       "      <td>1066.371667</td>\n",
       "    </tr>\n",
       "    <tr>\n",
       "      <th>28</th>\n",
       "      <td>29</td>\n",
       "      <td>Running Shoes</td>\n",
       "      <td>Sports &amp; Outdoors</td>\n",
       "      <td>15303.95</td>\n",
       "      <td>12963.82</td>\n",
       "      <td>2340.13</td>\n",
       "      <td>Amazon Pay Later</td>\n",
       "      <td>1080.318333</td>\n",
       "      <td>12</td>\n",
       "      <td>2024-05-26</td>\n",
       "      <td>May</td>\n",
       "      <td>1</td>\n",
       "      <td>1080.318333</td>\n",
       "      <td>11883.501667</td>\n",
       "    </tr>\n",
       "    <tr>\n",
       "      <th>30</th>\n",
       "      <td>31</td>\n",
       "      <td>Jeans</td>\n",
       "      <td>Fashion</td>\n",
       "      <td>10235.76</td>\n",
       "      <td>10195.25</td>\n",
       "      <td>40.51</td>\n",
       "      <td>Amazon Pay Later</td>\n",
       "      <td>849.604167</td>\n",
       "      <td>12</td>\n",
       "      <td>2023-07-23</td>\n",
       "      <td>July</td>\n",
       "      <td>11</td>\n",
       "      <td>9345.645833</td>\n",
       "      <td>849.604167</td>\n",
       "    </tr>\n",
       "    <tr>\n",
       "      <th>33</th>\n",
       "      <td>34</td>\n",
       "      <td>Car Battery</td>\n",
       "      <td>Automotive</td>\n",
       "      <td>9832.14</td>\n",
       "      <td>5678.15</td>\n",
       "      <td>4153.99</td>\n",
       "      <td>Amazon Pay Later</td>\n",
       "      <td>473.179167</td>\n",
       "      <td>12</td>\n",
       "      <td>2023-11-10</td>\n",
       "      <td>November</td>\n",
       "      <td>7</td>\n",
       "      <td>3312.254167</td>\n",
       "      <td>2365.895833</td>\n",
       "    </tr>\n",
       "    <tr>\n",
       "      <th>41</th>\n",
       "      <td>42</td>\n",
       "      <td>Bicycle</td>\n",
       "      <td>Sports &amp; Outdoors</td>\n",
       "      <td>17516.32</td>\n",
       "      <td>11822.29</td>\n",
       "      <td>5694.03</td>\n",
       "      <td>Amazon Pay Later</td>\n",
       "      <td>985.190833</td>\n",
       "      <td>12</td>\n",
       "      <td>2024-02-07</td>\n",
       "      <td>February</td>\n",
       "      <td>4</td>\n",
       "      <td>3940.763333</td>\n",
       "      <td>7881.526667</td>\n",
       "    </tr>\n",
       "  </tbody>\n",
       "</table>\n",
       "</div>"
      ],
      "text/plain": [
       "    Order ID   Product Name        Product Category       MRP  \\\n",
       "16        17  Tennis Racket       Sports & Outdoors  18009.92   \n",
       "20        21        Blender          Home & Kitchen   4109.63   \n",
       "21        22    Moisturizer  Beauty & Personal Care  19119.14   \n",
       "23        24   Organic Milk                 Grocery  15663.52   \n",
       "25        26       Vitamins      Health & Household   9975.27   \n",
       "28        29  Running Shoes       Sports & Outdoors  15303.95   \n",
       "30        31          Jeans                 Fashion  10235.76   \n",
       "33        34    Car Battery              Automotive   9832.14   \n",
       "41        42        Bicycle       Sports & Outdoors  17516.32   \n",
       "\n",
       "    Price for Customer  Savings    Payment Method  Monthly Payment  \\\n",
       "16            15331.88  2678.04  Amazon Pay Later      1277.656667   \n",
       "20             2304.48  1805.15  Amazon Pay Later      2304.480000   \n",
       "21            13987.96  5131.18  Amazon Pay Later      1165.663333   \n",
       "23             9612.10  6051.42  Amazon Pay Later       801.008333   \n",
       "25             6398.23  3577.04  Amazon Pay Later       533.185833   \n",
       "28            12963.82  2340.13  Amazon Pay Later      1080.318333   \n",
       "30            10195.25    40.51  Amazon Pay Later       849.604167   \n",
       "33             5678.15  4153.99  Amazon Pay Later       473.179167   \n",
       "41            11822.29  5694.03  Amazon Pay Later       985.190833   \n",
       "\n",
       "    Duration (months) Order Date Order Month  Months Passed   Amount Paid  \\\n",
       "16                 12 2023-11-20    November              7   8943.596667   \n",
       "20                  1 2023-09-17   September              9   2304.480000   \n",
       "21                 12 2023-07-14        July             11  12822.296667   \n",
       "23                 12 2024-06-05        June              0      0.000000   \n",
       "25                 12 2023-08-20      August             10   5331.858333   \n",
       "28                 12 2024-05-26         May              1   1080.318333   \n",
       "30                 12 2023-07-23        July             11   9345.645833   \n",
       "33                 12 2023-11-10    November              7   3312.254167   \n",
       "41                 12 2024-02-07    February              4   3940.763333   \n",
       "\n",
       "     Amount Left  \n",
       "16   6388.283333  \n",
       "20      0.000000  \n",
       "21   1165.663333  \n",
       "23   9612.100000  \n",
       "25   1066.371667  \n",
       "28  11883.501667  \n",
       "30    849.604167  \n",
       "33   2365.895833  \n",
       "41   7881.526667  "
      ]
     },
     "execution_count": 20,
     "metadata": {},
     "output_type": "execute_result"
    }
   ],
   "source": [
    "from datetime import datetime\n",
    "def get_amazon_pay_later_details(df): \n",
    "    \n",
    "    current_date = datetime.now()\n",
    "    apl_df = df[df['Payment Method'] == 'Amazon Pay Later'].copy()\n",
    "\n",
    "    # if apl_df.empty:\n",
    "    #     st.info(\"No Amazon Pay Later orders found.\")\n",
    "    #     return\n",
    "\n",
    "    # Calculate apl details\n",
    "    current_date = datetime.now()\n",
    "    apl_df['Duration (months)'] = apl_df['Duration (months)'].fillna(0).astype(int)\n",
    "    apl_df['Monthly Payment'] = apl_df['Monthly Payment'].fillna(0).astype(float)\n",
    "    apl_df['Order Date'] = pd.to_datetime(apl_df['Order Date'])\n",
    "    apl_df['Months Passed'] = apl_df['Order Date'].apply(lambda x: (current_date.year - x.year) * 12 + current_date.month - x.month)\n",
    "\n",
    "    apl_df['Amount Paid'] = apl_df.apply(lambda row: min(row['Months Passed'], row['Duration (months)']) * row['Monthly Payment'], axis=1)\n",
    "    apl_df['Amount Left'] = apl_df['Price for Customer'] - apl_df['Amount Paid']\n",
    "\n",
    "    return apl_df\n",
    "\n",
    "get_amazon_pay_later_details(df)"
   ]
  },
  {
   "cell_type": "code",
   "execution_count": null,
   "id": "8328ca26-a3ed-4fcd-8eea-3c7f89ffc835",
   "metadata": {},
   "outputs": [],
   "source": []
  }
 ],
 "metadata": {
  "kernelspec": {
   "display_name": "Python 3 (ipykernel)",
   "language": "python",
   "name": "python3"
  },
  "language_info": {
   "codemirror_mode": {
    "name": "ipython",
    "version": 3
   },
   "file_extension": ".py",
   "mimetype": "text/x-python",
   "name": "python",
   "nbconvert_exporter": "python",
   "pygments_lexer": "ipython3",
   "version": "3.11.0"
  }
 },
 "nbformat": 4,
 "nbformat_minor": 5
}
