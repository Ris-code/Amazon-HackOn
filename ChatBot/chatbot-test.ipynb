{
 "cells": [
  {
   "cell_type": "code",
   "execution_count": 4,
   "metadata": {},
   "outputs": [],
   "source": [
    "import os\n",
    "from langchain_mistralai import ChatMistralAI\n",
    "from langchain.schema import Document\n",
    "from langchain_text_splitters import CharacterTextSplitter\n",
    "from langchain_mistralai import MistralAIEmbeddings\n",
    "from dotenv import load_dotenv\n",
    "import time\n",
    "from pinecone import Pinecone, ServerlessSpec\n",
    "from langchain_pinecone import PineconeVectorStore\n",
    "from tqdm.autonotebook import tqdm\n",
    "\n",
    "# importing the py files\n",
    "from user_profile import *"
   ]
  },
  {
   "cell_type": "code",
   "execution_count": 5,
   "metadata": {},
   "outputs": [
    {
     "name": "stderr",
     "output_type": "stream",
     "text": [
      "c:\\Users\\aichr\\.virtualenvs\\Amazon-HackOn-vcHtwuFW\\lib\\site-packages\\langchain_mistralai\\embeddings.py:105: UserWarning: Could not download mistral tokenizer from Huggingface for calculating batch sizes. Set a Huggingface token via the HF_TOKEN environment variable to download the real tokenizer. Falling back to a dummy tokenizer that uses `len()`.\n",
      "  warnings.warn(\n",
      "c:\\Users\\aichr\\.virtualenvs\\Amazon-HackOn-vcHtwuFW\\lib\\site-packages\\langchain_core\\_api\\deprecation.py:139: LangChainDeprecationWarning: The class `Pinecone` was deprecated in LangChain 0.0.3 and will be removed in 0.3.0. Use PineconeVectorStore instead.\n",
      "  warn_deprecated(\n"
     ]
    },
    {
     "name": "stdout",
     "output_type": "stream",
     "text": [
      "['Simplified', 'secure payment interfaces', 'Tools to manage fixed incomes and budgeting', 'Fraud protection and financial advice', 'Innovative payment solutions (e.g.', 'mobile wallets', 'buy now', 'pay later options)', 'Financial education and budgeting tools', 'Easy-to-use payment options', 'Loyalty rewards and cashback offers', 'Budget tracking and management tools']\n"
     ]
    }
   ],
   "source": [
    "user_profile = {\n",
    "    \"Name\": \"John Doe\",\n",
    "    \"Age\": 70,\n",
    "    \"Gender\": \"Male\",\n",
    "    \"Location\": \"New York, NY, USA\",\n",
    "    \"Account Age\": \"3 years\",\n",
    "    \"Visit Frequency\": \"10 visits in the last 10 days\",\n",
    "    \"Purchase Frequency\": \"5 purchases in the last month\",\n",
    "    \"Average Purchase Value\": \"$50 per purchase\",\n",
    "    \"Cart Abandonment Rate\": \"3 abandoned carts in the last month\",\n",
    "    \"Engagement with Promotions\": \"Clicked on 3 promotional emails in the last month\",\n",
    "    \"Wishlist Activity\": \"Added 5 items to wishlist in the last month\",\n",
    "    \"Browsing History\": [\"Laptops\", \"Smartphones\", \"Books\"],\n",
    "    \"Subscription Status\": \"No\",\n",
    "    \"Preferred Payment Methods\": [\"Credit Card\", \"Mobile Wallet\"]\n",
    "}\n",
    "\n",
    "user_train = user_profile_train(user_profile)\n",
    "user_needs = user_train.get_user_profile()\n",
    "\n",
    "print(user_needs)"
   ]
  },
  {
   "cell_type": "code",
   "execution_count": 7,
   "metadata": {},
   "outputs": [],
   "source": [
    "query_category = {\n",
    "    \"Payment Failure\": \"High Pain, High Importance\",\n",
    "    \"Order Confirmation\": \"High Pain, High Importance\",\n",
    "    \"Delayed Refunds\": \"High Pain, High Importance\",\n",
    "    \"Security Concern\": \"High Pain, High Importance\",\n",
    "    \"International Payments\": \"High Pain, Low Importance\",\n",
    "    \"Hidden Fees\": \"High Pain, Low Importance\",\n",
    "    \"Transaction Limit\": \"Low Pain, Low Importance\",\n",
    "    \"Loyalty Points and Gift cards\": \"Low Pain, Low Importance\",\n",
    "    \"Promo codes and discount issues\": \"Low Pain, Low Importance\",\n",
    "    \"Complex checkout process\": \"Low Pain, High Importance\",\n",
    "    \"Payment options\": \"Low Pain, High Importance\",\n",
    "    \"EMI & Installments\": \"Low Pain, High Importance\",\n",
    "    \"Confusing Payment options\": \"Low Pain, High Importance\"\n",
    "}"
   ]
  },
  {
   "cell_type": "code",
   "execution_count": null,
   "metadata": {},
   "outputs": [],
   "source": []
  }
 ],
 "metadata": {
  "kernelspec": {
   "display_name": "Amazon-HackOn-vcHtwuFW",
   "language": "python",
   "name": "python3"
  },
  "language_info": {
   "codemirror_mode": {
    "name": "ipython",
    "version": 3
   },
   "file_extension": ".py",
   "mimetype": "text/x-python",
   "name": "python",
   "nbconvert_exporter": "python",
   "pygments_lexer": "ipython3",
   "version": "3.10.5"
  }
 },
 "nbformat": 4,
 "nbformat_minor": 2
}
