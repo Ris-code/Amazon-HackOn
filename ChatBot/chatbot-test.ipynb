{
 "cells": [
  {
   "cell_type": "code",
   "execution_count": 82,
   "metadata": {},
   "outputs": [],
   "source": [
    "import os\n",
    "from langchain_mistralai import ChatMistralAI\n",
    "from langchain.schema import Document\n",
    "from langchain_text_splitters import CharacterTextSplitter\n",
    "from langchain_mistralai import MistralAIEmbeddings\n",
    "from dotenv import load_dotenv\n",
    "import time\n",
    "from pinecone import Pinecone as pc\n",
    "from langchain_pinecone import Pinecone\n",
    "from langchain_pinecone import PineconeVectorStore\n",
    "from tqdm.autonotebook import tqdm\n",
    "from langchain_core.tools import tool\n",
    "import env\n",
    "\n",
    "# importing the py files\n",
    "from user_profile import *"
   ]
  },
  {
   "cell_type": "code",
   "execution_count": 80,
   "metadata": {},
   "outputs": [],
   "source": [
    "llm = ChatMistralAI(model=\"mistral-large-latest\")"
   ]
  },
  {
   "cell_type": "code",
   "execution_count": 83,
   "metadata": {},
   "outputs": [
    {
     "name": "stderr",
     "output_type": "stream",
     "text": [
      "c:\\Users\\aichr\\.virtualenvs\\Amazon-HackOn-vcHtwuFW\\lib\\site-packages\\langchain_mistralai\\embeddings.py:105: UserWarning: Could not download mistral tokenizer from Huggingface for calculating batch sizes. Set a Huggingface token via the HF_TOKEN environment variable to download the real tokenizer. Falling back to a dummy tokenizer that uses `len()`.\n",
      "  warnings.warn(\n"
     ]
    },
    {
     "name": "stdout",
     "output_type": "stream",
     "text": [
      "Simplified\n",
      "secure payment interfaces\n",
      "Tools to manage fixed incomes and budgeting\n",
      "Fraud protection and financial advice\n",
      "Innovative payment solutions (e.g.\n",
      "mobile wallets\n",
      "buy now\n",
      "pay later options)\n",
      "Financial education and budgeting tools\n",
      "Easy-to-use payment options\n",
      "Loyalty rewards and cashback offers\n",
      "Budget tracking and management tools\n",
      "\n"
     ]
    }
   ],
   "source": [
    "user_profile = {\n",
    "    \"Name\": \"John Doe\",\n",
    "    \"Age\": 70,\n",
    "    \"Gender\": \"Male\",\n",
    "    \"Location\": \"New York, NY, USA\",\n",
    "    \"Account Age\": \"3 years\",\n",
    "    \"Visit Frequency\": \"10 visits in the last 10 days\",\n",
    "    \"Purchase Frequency\": \"5 purchases in the last month\",\n",
    "    \"Average Purchase Value\": \"$50 per purchase\",\n",
    "    \"Cart Abandonment Rate\": \"3 abandoned carts in the last month\",\n",
    "    \"Engagement with Promotions\": \"Clicked on 3 promotional emails in the last month\",\n",
    "    \"Wishlist Activity\": \"Added 5 items to wishlist in the last month\",\n",
    "    \"Browsing History\": [\"Laptops\", \"Smartphones\", \"Books\"],\n",
    "    \"Subscription Status\": \"No\",\n",
    "    \"Preferred Payment Methods\": [\"Credit Card\", \"Mobile Wallet\"]\n",
    "}\n",
    "\n",
    "user_train = user_profile_train(user_profile)\n",
    "user_needs = user_train.get_user_profile()\n",
    "\n",
    "# print(user)\n",
    "\n",
    "needs = \"\"\n",
    "for i in user_needs:\n",
    "    needs = needs+i+\"\\n\"\n",
    "print(needs)"
   ]
  },
  {
   "cell_type": "code",
   "execution_count": 46,
   "metadata": {},
   "outputs": [],
   "source": [
    "query_category = {\n",
    "    \"Payment Failure\": \"High Pain, High Importance\",\n",
    "    \"Order Confirmation\": \"High Pain, High Importance\",\n",
    "    \"Delayed Refunds\": \"High Pain, High Importance\",\n",
    "    \"Security Concern\": \"High Pain, High Importance\",\n",
    "    \"International Payments\": \"High Pain, Low Importance\",\n",
    "    \"Hidden Fees\": \"High Pain, Low Importance\",\n",
    "    \"Transaction Limit\": \"Low Pain, Low Importance\",\n",
    "    \"Loyalty Points and Gift cards\": \"Low Pain, Low Importance\",\n",
    "    \"Promo codes and discount issues\": \"Low Pain, Low Importance\",\n",
    "    \"Complex checkout process\": \"Low Pain, High Importance\",\n",
    "    \"Payment options\": \"Low Pain, High Importance\",\n",
    "    \"EMI & Installments\": \"Low Pain, High Importance\",\n",
    "    \"Confusing Payment options\": \"Low Pain, High Importance\"\n",
    "}"
   ]
  },
  {
   "cell_type": "code",
   "execution_count": 47,
   "metadata": {},
   "outputs": [],
   "source": [
    "# @tool\n",
    "# def payment_failure(transaction_id: str):\n",
    "    \n",
    "#     \"\"\"Multiply two integers together.\"\"\"\n",
    "    "
   ]
  },
  {
   "cell_type": "code",
   "execution_count": 48,
   "metadata": {},
   "outputs": [
    {
     "name": "stderr",
     "output_type": "stream",
     "text": [
      "c:\\Users\\aichr\\.virtualenvs\\Amazon-HackOn-vcHtwuFW\\lib\\site-packages\\langchain_mistralai\\embeddings.py:105: UserWarning: Could not download mistral tokenizer from Huggingface for calculating batch sizes. Set a Huggingface token via the HF_TOKEN environment variable to download the real tokenizer. Falling back to a dummy tokenizer that uses `len()`.\n",
      "  warnings.warn(\n"
     ]
    }
   ],
   "source": [
    "Index = \"query-category-new\"\n",
    "pc = pc(api_key=os.environ.get(\"PINECONE_API_KEY\"))\n",
    "\n",
    "index = pc.Index(Index)\n",
    "\n",
    "vectorstore = Pinecone(index, embedding=MistralAIEmbeddings())\n",
    "retriever = vectorstore.as_retriever(k=1)"
   ]
  },
  {
   "cell_type": "code",
   "execution_count": 49,
   "metadata": {},
   "outputs": [],
   "source": [
    "from langchain.tools.retriever import create_retriever_tool\n",
    "\n",
    "retriever_tool = create_retriever_tool(\n",
    "    retriever,\n",
    "    \"payment_query_search\",\n",
    "    \"Search for information related to payment queries. For any questions about Payment and payment methods, you must use this tool!\",\n",
    ")"
   ]
  },
  {
   "cell_type": "code",
   "execution_count": 50,
   "metadata": {},
   "outputs": [],
   "source": [
    "tools = [retriever_tool]"
   ]
  },
  {
   "cell_type": "code",
   "execution_count": 51,
   "metadata": {},
   "outputs": [],
   "source": [
    "model_with_tools = llm.bind_tools(tools)"
   ]
  },
  {
   "cell_type": "code",
   "execution_count": 52,
   "metadata": {},
   "outputs": [
    {
     "name": "stdout",
     "output_type": "stream",
     "text": [
      "ContentString: Hello! How can I assist you today? If you have any questions about payments or payment methods, I can help you with that.\n",
      "ToolCalls: []\n"
     ]
    }
   ],
   "source": [
    "from langchain_core.messages import HumanMessage\n",
    "\n",
    "response = model_with_tools.invoke([HumanMessage(content=\"Hi!\")])\n",
    "\n",
    "print(f\"ContentString: {response.content}\")\n",
    "print(f\"ToolCalls: {response.tool_calls}\")"
   ]
  },
  {
   "cell_type": "code",
   "execution_count": 53,
   "metadata": {},
   "outputs": [
    {
     "name": "stdout",
     "output_type": "stream",
     "text": [
      "[Document(page_content='Category: Payment Failure\\nQuestion: What are the common reasons for payment failure?\\nAnswer:\\nCommon reasons for payment failure on Amazon include:\\n1. Incorrect card details: Ensure the card number, expiration date, and CVV are entered correctly.\\n2. Insufficient funds: Verify that your account has enough funds to complete the transaction.\\n3. Expired card: Check if your card has expired and, if so, use a different card.\\n4. Bank restrictions: Your bank may decline the transaction for security reasons or due to restrictions on your account. Contact your bank for more information.\\n5. Network issues: Temporary network problems can cause payment failures. Wait a few moments and try again.\\n6. Payment gateway issues: Sometimes, issues with the payment gateway can result in failures. If this happens, try a different payment method.\\nIf none of these apply, please contact Amazon Customer Service for further assistance.', metadata={'category': 'Payment Failure', 'question': 'What are the common reasons for payment failure?'}), Document(page_content='Category: Payment Failure\\nQuestion: Why did my payment fail?\\nAnswer:\\nYour payment may have failed for several reasons. Common causes include incorrect card details, such as an incorrect card number, expiration date, or CVV. Additionally, your bank may have declined the transaction due to insufficient funds, an expired card, or a security block. Network issues or temporary problems with the payment gateway can also result in payment failures. To resolve this, please verify your card information, ensure that you have sufficient funds, and try again. If the issue persists, consider using an alternative payment method or contacting your bank for further assistance.', metadata={'category': 'Payment Failure', 'question': 'Why did my payment fail?'}), Document(page_content='Category: Payment Failure\\nQuestion: Why is my credit card being declined?\\nAnswer:\\nYour credit card may be declined for several reasons, including:\\n1. Incorrect card details: Ensure the card number, expiration date, and CVV are entered correctly.\\n2. Insufficient funds: Verify that your account has enough funds to complete the transaction.\\n3. Expired card: Check if your card has expired and, if so, use a different card.\\n4. Bank restrictions: Your bank may decline the transaction for security reasons or due to restrictions on your account. Contact your bank for more information.\\n5. Daily spending limit: Some cards have daily spending limits which may have been reached.\\n6. Suspected fraudulent activity: If your bank suspects fraudulent activity, they may decline the transaction. Contact your bank to resolve this issue.\\nIf none of these apply, please contact Amazon Customer Service for further assistance.', metadata={'category': 'Payment Failure', 'question': 'Why is my credit card being declined?'}), Document(page_content='Category: Payment Failure\\nQuestion: Can you help me with a payment failure issue?\\nAnswer:\\nCertainly! Here are some steps to troubleshoot payment failures on Amazon:\\n1. Double-check your card details, including the card number, expiration date, and CVV.\\n2. Ensure that there are sufficient funds in your account to cover the purchase.\\n3. Check if your card has expired or if there are any restrictions placed by your bank.\\n4. Try using a different payment method, such as another credit card, debit card, or Amazon Pay balance.\\n5. Contact your bank to inquire about any potential issues with your account or card.\\nIf you continue to experience difficulties, please reach out to Amazon Customer Service for personalized assistance.', metadata={'category': 'Payment Failure', 'question': 'Can you help me with a payment failure issue?'})]\n"
     ]
    }
   ],
   "source": [
    "print(retriever.invoke(\"Why my payment failure occured ?\"))"
   ]
  },
  {
   "cell_type": "code",
   "execution_count": 54,
   "metadata": {},
   "outputs": [
    {
     "name": "stdout",
     "output_type": "stream",
     "text": [
      "ContentString: \n",
      "ToolCalls: [{'name': 'payment_query_search', 'args': {'query': 'payment failure'}, 'id': 'A4qXWL0Mg'}]\n"
     ]
    }
   ],
   "source": [
    "response = model_with_tools.invoke([HumanMessage(content=\"Why my payment failure occured ?\")])\n",
    "\n",
    "print(f\"ContentString: {response.content}\")\n",
    "print(f\"ToolCalls: {response.tool_calls}\")"
   ]
  },
  {
   "cell_type": "code",
   "execution_count": 55,
   "metadata": {},
   "outputs": [
    {
     "data": {
      "text/plain": [
       "[SystemMessagePromptTemplate(prompt=PromptTemplate(input_variables=[], template='You are a helpful assistant')),\n",
       " MessagesPlaceholder(variable_name='chat_history', optional=True),\n",
       " HumanMessagePromptTemplate(prompt=PromptTemplate(input_variables=['input'], template='{input}')),\n",
       " MessagesPlaceholder(variable_name='agent_scratchpad')]"
      ]
     },
     "execution_count": 55,
     "metadata": {},
     "output_type": "execute_result"
    }
   ],
   "source": [
    "from langchain import hub\n",
    "\n",
    "# Get the prompt to use - you can modify this!\n",
    "prompt = hub.pull(\"hwchase17/openai-functions-agent\")\n",
    "prompt.messages"
   ]
  },
  {
   "cell_type": "code",
   "execution_count": 56,
   "metadata": {},
   "outputs": [],
   "source": [
    "from langchain.agents import create_tool_calling_agent\n",
    "\n",
    "agent = create_tool_calling_agent(llm, tools, prompt)"
   ]
  },
  {
   "cell_type": "code",
   "execution_count": 57,
   "metadata": {},
   "outputs": [],
   "source": [
    "from langchain.agents import AgentExecutor\n",
    "\n",
    "agent_executor = AgentExecutor(agent=agent, tools=tools)"
   ]
  },
  {
   "cell_type": "code",
   "execution_count": 58,
   "metadata": {},
   "outputs": [
    {
     "data": {
      "text/plain": [
       "{'input': 'hi!',\n",
       " 'output': 'Hello! How can I assist you today? If you have any questions about payments or payment methods, I can help you with that using the payment_query_search function.'}"
      ]
     },
     "execution_count": 58,
     "metadata": {},
     "output_type": "execute_result"
    }
   ],
   "source": [
    "agent_executor.invoke({\"input\": \"hi!\"})"
   ]
  },
  {
   "cell_type": "code",
   "execution_count": null,
   "metadata": {},
   "outputs": [],
   "source": [
    "from langchain import PromptTemplate\n",
    "\n",
    "# create the prompt\n",
    "prompt_template: str = \"\"\"/\n",
    "You are a customer service agent at Amazon and you have to resolve all payment related issues. You have access to a tool called 'payment_query_search' which you should use \n",
    "whenever a user asks a question related to payment errors, methods, or processes. When you receive such a query, call the 'payment_query_search' tool to fetch the information./ \n",
    "question: {question}. Do not use technical words, give easy/\n",
    "to understand responses.\n",
    "\"\"\"\n",
    "\n",
    "prompt = PromptTemplate.from_template(template=prompt_template)\n",
    "\n",
    "# format the prompt to add variable values\n",
    "prompt_formatted_str: str = prompt.format(\n",
    "    question=\"Why won't a vehicle start on ignition?\")"
   ]
  },
  {
   "cell_type": "code",
   "execution_count": 59,
   "metadata": {},
   "outputs": [
    {
     "data": {
      "text/plain": [
       "{'input': 'How can I resolve a payment processing error?',\n",
       " 'output': 'To help you resolve a payment processing error, I would need more specific information about the error. Please provide me with the error message or code, and any other relevant details. I will then use the payment_query_search function to look up the necessary information to assist you in resolving the error.\\n\\nPlease be aware that I can only provide information and guidance on resolving payment processing errors. I do not have the ability to directly fix any technical issues or process payments.\\n\\nHere is an example of how you can provide me with the necessary information:\\n\\n\"I am encountering a payment processing error with the error code \\'ABC123\\'. The error message states \\'There was an issue processing your payment. Please try again later.\\' I have tried processing the payment multiple times, but I keep encountering the same error. I am using a Visa credit card and my billing information is correct.\"\\n\\nWith this information, I can use the payment_query_search function to look up the error code \\'ABC123\\' and provide you with guidance on how to resolve the error.'}"
      ]
     },
     "execution_count": 59,
     "metadata": {},
     "output_type": "execute_result"
    }
   ],
   "source": [
    "agent_executor.invoke({\"input\": \"How can I resolve a payment processing error?\"})"
   ]
  },
  {
   "cell_type": "code",
   "execution_count": null,
   "metadata": {},
   "outputs": [],
   "source": []
  }
 ],
 "metadata": {
  "kernelspec": {
   "display_name": "Amazon-HackOn-vcHtwuFW",
   "language": "python",
   "name": "python3"
  },
  "language_info": {
   "codemirror_mode": {
    "name": "ipython",
    "version": 3
   },
   "file_extension": ".py",
   "mimetype": "text/x-python",
   "name": "python",
   "nbconvert_exporter": "python",
   "pygments_lexer": "ipython3",
   "version": "3.10.5"
  }
 },
 "nbformat": 4,
 "nbformat_minor": 2
}
